{
 "cells": [
  {
   "cell_type": "code",
   "execution_count": 1,
   "metadata": {},
   "outputs": [],
   "source": [
    "import gymnasium as gym\n",
    "import numpy as np\n",
    "import associata"
   ]
  },
  {
   "cell_type": "code",
   "execution_count": 2,
   "metadata": {},
   "outputs": [],
   "source": [
    "import matplotlib.pyplot as plt\n",
    "%matplotlib inline"
   ]
  },
  {
   "cell_type": "markdown",
   "metadata": {},
   "source": [
    "# RL methods"
   ]
  },
  {
   "cell_type": "code",
   "execution_count": 3,
   "metadata": {},
   "outputs": [],
   "source": [
    "from abc import ABC, abstractmethod"
   ]
  },
  {
   "cell_type": "code",
   "execution_count": 4,
   "metadata": {},
   "outputs": [],
   "source": [
    "class TD(ABC):\n",
    "    def __init__(self, state_space_bounds, state_space_epsilon, action_space, alpha=0.2, gamma=1.0, greedey_epsilon=0.1):\n",
    "        self._state_space_bounds = state_space_bounds\n",
    "        self._state_space_epsilon = state_space_epsilon\n",
    "        self._state_space_shape = np.ceil((state_space_bounds[1, :] - state_space_bounds[0, :]) / state_space_epsilon).astype('int')\n",
    "        self._action_space = action_space\n",
    "        \n",
    "        self._init_q()\n",
    "\n",
    "        self.greedy_epsilon = greedey_epsilon\n",
    "        self.alpha = alpha\n",
    "        self.gamma = gamma\n",
    "\n",
    "        self._last_state = None\n",
    "        self._last_action = None\n",
    "        self._acc_reward = 0.0\n",
    "        self.episode_rewards = []\n",
    "\n",
    "        self._step_nr = 0\n",
    "\n",
    "\n",
    "    def step(self, observation, reward=None):\n",
    "        print(f'\\n=============== Step {self._step_nr} ===============')\n",
    "\n",
    "        state = self._get_state(observation)\n",
    "\n",
    "        print(f'State: {state}\\nReward (for prevoius action): {reward}\\n')\n",
    "\n",
    "        action = self._get_action(state)\n",
    "\n",
    "        print(f'Picked action: {action}')\n",
    "\n",
    "        if self._last_action is not None and reward is not None:\n",
    "            self._update_q(state, action, reward)\n",
    "            self._acc_reward += reward\n",
    "\n",
    "        self._last_state = state\n",
    "        self._last_action = action\n",
    "\n",
    "        self._step_nr += 1\n",
    "\n",
    "        return action\n",
    "    \n",
    "\n",
    "    def reset_episode(self, save_score=True):\n",
    "        self._last_state = None\n",
    "        self._last_action = None\n",
    "\n",
    "        if save_score:\n",
    "            self.episode_rewards.append(self._acc_reward)\n",
    "        \n",
    "        self._acc_reward = 0.0\n",
    "\n",
    "    @abstractmethod\n",
    "    def _get_state(self, observation):\n",
    "        pass\n",
    "\n",
    "    @abstractmethod\n",
    "    def _get_action(self, state):\n",
    "        pass\n",
    "\n",
    "    @abstractmethod\n",
    "    def _init_q(self):\n",
    "        pass\n",
    "\n",
    "    @abstractmethod\n",
    "    def _update_q(self, next_state, next_action, reward):\n",
    "        pass"
   ]
  },
  {
   "cell_type": "markdown",
   "metadata": {},
   "source": [
    "## Classic"
   ]
  },
  {
   "cell_type": "code",
   "execution_count": 5,
   "metadata": {},
   "outputs": [],
   "source": [
    "class Sarsa(TD):\n",
    "    def _get_state(self, observation):\n",
    "        indices = np.floor((observation - self._state_space_bounds[0, :]) / self._state_space_epsilon)\n",
    "        return np.clip(indices, np.zeros(len(self._state_space_shape)), self._state_space_shape - 1).astype('int')\n",
    "\n",
    "\n",
    "    def _get_action(self, state):\n",
    "        if np.random.random() < self.greedy_epsilon:\n",
    "            # exploratory action\n",
    "            return np.array([np.random.choice(self._action_space)])\n",
    "\n",
    "        else:\n",
    "            # exploiting action\n",
    "            action_values = self.q[*state, :]\n",
    "            max_action_value = np.max(action_values)\n",
    "            max_actions = np.argwhere(action_values == max_action_value)\n",
    "            if (len(max_actions) > 1):\n",
    "                action_index = np.random.randint(max_actions.shape[0])\n",
    "            else:\n",
    "                action_index = 0\n",
    "            return max_actions[action_index]\n",
    "        \n",
    "\n",
    "    def _init_q(self):\n",
    "        self.q = np.zeros(tuple(self._state_space_shape) + self._action_space.shape)\n",
    "\n",
    "\n",
    "    def _update_q(self, next_state, next_action, reward):\n",
    "        self.q[*self._last_state, *self._last_action] += self.alpha * (reward + self.gamma * self.q[*next_state, *next_action] - self.q[*self._last_state, *self._last_action])"
   ]
  },
  {
   "cell_type": "code",
   "execution_count": 6,
   "metadata": {},
   "outputs": [],
   "source": [
    "class QLearning(TD):\n",
    "    def _get_state(self, observation):\n",
    "        indices = np.floor((observation - self._state_space_bounds[0, :]) / self._state_space_epsilon)\n",
    "        return np.clip(indices, np.zeros(len(self._state_space_shape)), self._state_space_shape - 1).astype('int')\n",
    "\n",
    "\n",
    "    def _get_action(self, state):\n",
    "        if np.random.random() < self.greedy_epsilon:\n",
    "            # exploratory action\n",
    "            return np.array([np.random.choice(self._action_space)])\n",
    "\n",
    "        else:\n",
    "            # exploiting action\n",
    "            action_values = self.q[*state, :]\n",
    "            max_action_value = np.max(action_values)\n",
    "            max_actions = np.argwhere(action_values == max_action_value)\n",
    "            if (len(max_actions) > 1):\n",
    "                action_index = np.random.randint(max_actions.shape[0])\n",
    "            else:\n",
    "                action_index = 0\n",
    "            return max_actions[action_index]\n",
    "\n",
    "\n",
    "    def _init_q(self):\n",
    "        self.q = np.zeros(tuple(self._state_space_shape) + self._action_space.shape)\n",
    "\n",
    "\n",
    "    def _update_q(self, next_state, _next_action, reward):\n",
    "        max_q = np.max(self.q[*next_state, :])\n",
    "        self.q[*self._last_state, *self._last_action] += self.alpha * (reward + self.gamma * max_q - self.q[*self._last_state, *self._last_action])"
   ]
  },
  {
   "cell_type": "markdown",
   "metadata": {},
   "source": [
    "## Associata"
   ]
  },
  {
   "cell_type": "code",
   "execution_count": 5,
   "metadata": {},
   "outputs": [],
   "source": [
    "class SarsaAGDS(TD):\n",
    "    def __init__(self, state_space_feature_names, state_space_bounds, state_space_epsilon, action_space, alpha=0.2, gamma=1.0, greedey_epsilon=0.1):\n",
    "        self._state_space_feature_names = state_space_feature_names\n",
    "        super().__init__(state_space_bounds, state_space_epsilon, action_space, alpha=alpha, gamma=gamma, greedey_epsilon=greedey_epsilon)\n",
    "\n",
    "\n",
    "    def stop(self):\n",
    "        self.q.stop()\n",
    "\n",
    "\n",
    "    def _get_state(self, observation):\n",
    "        return observation\n",
    "\n",
    "\n",
    "    def _get_action(self, state):\n",
    "        if np.random.random() < self.greedy_epsilon:\n",
    "            # exploratory action\n",
    "            return self._get_random_action()\n",
    "\n",
    "        else:\n",
    "            # exploiting action\n",
    "            best_action_search = self._setup_search_from_state(state)\n",
    "            best_action_search.stimulate_vng_with_repr_values('value')\n",
    "\n",
    "            best_sa = self._infere_and_get_max_from_ong(best_action_search, 3)\n",
    "\n",
    "            print(f'Best sa: {best_sa}')\n",
    "\n",
    "            if (best_sa is None):\n",
    "                return self._get_random_action()\n",
    "\n",
    "            # TODO: handles only one-dimensional action space\n",
    "            best_sa_neigh_nodes = self.q.get_on_neighbours(best_sa)\n",
    "            print(f'Best sa neigh nodes: {best_sa_neigh_nodes}')\n",
    "            return np.array([int(float(ef[2])) for ef in best_sa_neigh_nodes if ef[0] == 'vn' and ef[1] == 'action'])\n",
    "        \n",
    "        \n",
    "\n",
    "    def _init_q(self):\n",
    "        self.q = associata.AGDS()\n",
    "        for f_name, f_epsilon in zip(self._state_space_feature_names, self._state_space_epsilon):\n",
    "            self.q.add_numerical_vng(f_name, f_epsilon)\n",
    "        self.q.add_categorical_vng('value')\n",
    "        self.q.add_categorical_vng('action')\n",
    "\n",
    "\n",
    "    def _update_q(self, next_state, next_action, reward):\n",
    "        last_sa_value_search = self._setup_search_from_state(self._last_state)\n",
    "        last_sa_value_search = self._setup_search_from_action(self._last_action, last_sa_value_search)\n",
    "        last_sa_value = self._infere_and_get_max_from_vng('value', last_sa_value_search, 3)\n",
    "\n",
    "        last_sa_value = float(last_sa_value) if last_sa_value is not None else 0.0\n",
    "\n",
    "        next_sa_value_search = self._setup_search_from_state(next_state)\n",
    "        next_sa_value_search = self._setup_search_from_action(next_action, next_sa_value_search)\n",
    "        next_sa_value = self._infere_and_get_max_from_vng('value', next_sa_value_search, 3)\n",
    "\n",
    "        next_sa_value = float(next_sa_value) if next_sa_value is not None else 0.0\n",
    "\n",
    "        updated_last_sa_value = last_sa_value + self.alpha * (reward + self.gamma * next_sa_value - last_sa_value)\n",
    "        \n",
    "        #self.q.poison(last_sa_value_search, 2, 5.0)     # TODO: Adjust depth and deadly dose\n",
    "\n",
    "        # TODO: handles only one-dimensional action space\n",
    "        new_observation = {vng_name: vng_value for vng_name, vng_value in zip(\n",
    "                                    self._state_space_feature_names + ['value', 'action'], \n",
    "                                    self._last_state.tolist() + [updated_last_sa_value, self._last_action[0]]\n",
    "                                )}\n",
    "        self.q.add_observation(new_observation)\n",
    "\n",
    "\n",
    "\n",
    "    def _infere_and_get_max_from_vng(self, vng_name, setup, depth):\n",
    "        self.q.infere(setup, depth)\n",
    "        excitations = self.q.get_excitations_for_vng(vng_name)\n",
    "\n",
    "        return self._get_maximizing_key(excitations)\n",
    "    \n",
    "\n",
    "    def _infere_and_get_max_from_ong(self, setup, depth):\n",
    "        self.q.infere(setup, depth)\n",
    "        excitations = self.q.get_excitations_for_ong()\n",
    "\n",
    "        return self._get_maximizing_key(excitations)\n",
    "\n",
    "    \n",
    "    def _get_maximizing_key(self, excitations):\n",
    "        if len(excitations) > 0:\n",
    "            max_excitation = max(excitations.values())\n",
    "            return np.random.choice([k for k, v in excitations.items() if v == max_excitation])\n",
    "        else:\n",
    "            return None\n",
    "\n",
    "\n",
    "    def _setup_search_from_state(self, state, search=None):\n",
    "        search = associata.InferenceSetup() if search is None else search\n",
    "        for f_name, f_value in zip(self._state_space_feature_names, state):\n",
    "            search.stimulate_vn(f_name, f_value)\n",
    "        return search\n",
    "    \n",
    "\n",
    "    def _setup_search_from_action(self, action, search=None):\n",
    "        search = associata.InferenceSetup() if search is None else search\n",
    "        search.stimulate_vn('action', action[0])    # TODO: handles only one-dimensional action space\n",
    "        return search\n",
    "    \n",
    "    def _get_random_action(self):\n",
    "        return np.array([np.random.choice(self._action_space)])"
   ]
  },
  {
   "cell_type": "markdown",
   "metadata": {},
   "source": [
    "# Gymnasium"
   ]
  },
  {
   "cell_type": "markdown",
   "metadata": {},
   "source": [
    "## Lunar lander"
   ]
  },
  {
   "cell_type": "code",
   "execution_count": 6,
   "metadata": {},
   "outputs": [],
   "source": [
    "env = gym.make(\"LunarLander-v2\", render_mode=\"human\")\n",
    "observation, info = env.reset(seed=42)\n",
    "\n",
    "for _ in range(100):\n",
    "    action = env.action_space.sample()\n",
    "    observation, reward, terminated, truncated, info = env.step(action)\n",
    "\n",
    "    if terminated or truncated:\n",
    "        observation, info = env.reset()\n",
    "\n",
    "env.close()"
   ]
  },
  {
   "cell_type": "markdown",
   "metadata": {},
   "source": [
    "## Cart pole"
   ]
  },
  {
   "cell_type": "code",
   "execution_count": 6,
   "metadata": {},
   "outputs": [],
   "source": [
    "state_space_bounds = np.array([[-2.5, -3.0, -0.25, -3.0], [2.5, 3.0, 0.25, 3.0]])\n",
    "# state_space_epsilon = np.array([0.5, 0.5, 0.05, 0.5])\n",
    "state_space_epsilon = np.array([0.1, 0.5, 0.05, 0.1])\n",
    "state_space_feature_names = ['x_pos', 'x_speed', 'ang_pos', 'ang_speed']\n",
    "action_space = np.array([0, 1])"
   ]
  },
  {
   "cell_type": "markdown",
   "metadata": {},
   "source": [
    "### Sarsa"
   ]
  },
  {
   "cell_type": "code",
   "execution_count": 8,
   "metadata": {},
   "outputs": [
    {
     "ename": "NameError",
     "evalue": "name 'Sarsa' is not defined",
     "output_type": "error",
     "traceback": [
      "\u001b[1;31m---------------------------------------------------------------------------\u001b[0m",
      "\u001b[1;31mNameError\u001b[0m                                 Traceback (most recent call last)",
      "Cell \u001b[1;32mIn[8], line 1\u001b[0m\n\u001b[1;32m----> 1\u001b[0m sarsa \u001b[38;5;241m=\u001b[39m \u001b[43mSarsa\u001b[49m(state_space_bounds, state_space_epsilon, action_space)\n",
      "\u001b[1;31mNameError\u001b[0m: name 'Sarsa' is not defined"
     ]
    }
   ],
   "source": [
    "sarsa = Sarsa(state_space_bounds, state_space_epsilon, action_space)"
   ]
  },
  {
   "cell_type": "code",
   "execution_count": 11,
   "metadata": {},
   "outputs": [],
   "source": [
    "sarsa.alpha = 0.25"
   ]
  },
  {
   "cell_type": "code",
   "execution_count": 12,
   "metadata": {},
   "outputs": [],
   "source": [
    "env = gym.make(\"CartPole-v1\", render_mode=\"human\")\n",
    "observation, info = env.reset()\n",
    "\n",
    "reward = None\n",
    "\n",
    "# min_obs = observation\n",
    "# max_obs = observation\n",
    "\n",
    "for _ in range(100):\n",
    "    action = sarsa.step(observation, reward)[0]\n",
    "    observation, reward, terminated, truncated, info = env.step(action)\n",
    "\n",
    "    # min_obs = np.min(np.array([observation, min_obs]), axis=0)\n",
    "    # max_obs = np.max(np.array([observation, max_obs]), axis=0)\n",
    "\n",
    "    if terminated or truncated:\n",
    "        observation, info = env.reset()\n",
    "        sarsa.reset_episode()\n",
    "        reward = None\n",
    "\n",
    "sarsa.reset_episode(False)\n",
    "env.close()"
   ]
  },
  {
   "cell_type": "code",
   "execution_count": null,
   "metadata": {},
   "outputs": [
    {
     "data": {
      "text/plain": [
       "[<matplotlib.lines.Line2D at 0x20754de7c50>]"
      ]
     },
     "execution_count": 59,
     "metadata": {},
     "output_type": "execute_result"
    },
    {
     "data": {
      "image/png": "[encoded data removed]",
      "text/plain": [
       "<Figure size 640x480 with 1 Axes>"
      ]
     },
     "metadata": {},
     "output_type": "display_data"
    }
   ],
   "source": [
    "plt.plot(sarsa.episode_rewards)"
   ]
  },
  {
   "cell_type": "code",
   "execution_count": null,
   "metadata": {},
   "outputs": [
    {
     "data": {
      "text/plain": [
       "[<matplotlib.lines.Line2D at 0x207599144d0>]"
      ]
     },
     "execution_count": 65,
     "metadata": {},
     "output_type": "execute_result"
    },
    {
     "data": {
      "image/png": "[encoded data removed]",
      "text/plain": [
       "<Figure size 640x480 with 1 Axes>"
      ]
     },
     "metadata": {},
     "output_type": "display_data"
    }
   ],
   "source": [
    "n = 2500\n",
    "ma = np.convolve(sarsa.episode_rewards, np.ones(n) / n, 'valid')\n",
    "plt.plot(ma)"
   ]
  },
  {
   "cell_type": "code",
   "execution_count": null,
   "metadata": {},
   "outputs": [],
   "source": [
    "import pickle\n",
    "\n",
    "with open('sarsa_400r_30000s.pickle', 'wb') as f:\n",
    "    pickle.dump(sarsa, f)"
   ]
  },
  {
   "cell_type": "code",
   "execution_count": null,
   "metadata": {},
   "outputs": [
    {
     "data": {
      "text/plain": [
       "(array([-2.4097164 , -3.0748265 , -0.25516647, -2.9667487 ], dtype=float32),\n",
       " array([2.4484854 , 3.2317376 , 0.25910497, 3.0691397 ], dtype=float32))"
      ]
     },
     "execution_count": 396,
     "metadata": {},
     "output_type": "execute_result"
    }
   ],
   "source": [
    "# min_obs, max_obs"
   ]
  },
  {
   "cell_type": "markdown",
   "metadata": {},
   "source": [
    "### Q-Learning"
   ]
  },
  {
   "cell_type": "code",
   "execution_count": null,
   "metadata": {},
   "outputs": [],
   "source": [
    "q_learning = QLearning(state_space_bounds, state_space_epsilon, action_space, alpha=0.5, gamma=0.95, greedey_epsilon=0.1)"
   ]
  },
  {
   "cell_type": "code",
   "execution_count": null,
   "metadata": {},
   "outputs": [],
   "source": [
    "q_learning.greedy_epsilon = 0.0"
   ]
  },
  {
   "cell_type": "code",
   "execution_count": null,
   "metadata": {},
   "outputs": [],
   "source": [
    "env = gym.make(\"CartPole-v1\", render_mode=\"rgb_array\")\n",
    "observation, info = env.reset()\n",
    "\n",
    "reward = None\n",
    "\n",
    "# min_obs = observation\n",
    "# max_obs = observation\n",
    "\n",
    "for _ in range(1000000):\n",
    "    action = q_learning.step(observation, reward)[0]\n",
    "    observation, reward, terminated, truncated, info = env.step(action)\n",
    "\n",
    "    # min_obs = np.min(np.array([observation, min_obs]), axis=0)\n",
    "    # max_obs = np.max(np.array([observation, max_obs]), axis=0)\n",
    "\n",
    "    if terminated or truncated:\n",
    "        observation, info = env.reset()\n",
    "        q_learning.reset_episode()\n",
    "        reward = None\n",
    "\n",
    "q_learning.reset_episode(False)\n",
    "env.close()"
   ]
  },
  {
   "cell_type": "code",
   "execution_count": null,
   "metadata": {},
   "outputs": [
    {
     "data": {
      "text/plain": [
       "[<matplotlib.lines.Line2D at 0x21253f3ecd0>]"
      ]
     },
     "execution_count": 54,
     "metadata": {},
     "output_type": "execute_result"
    },
    {
     "data": {
      "image/png": "[encoded data removed]",
      "text/plain": [
       "<Figure size 640x480 with 1 Axes>"
      ]
     },
     "metadata": {},
     "output_type": "display_data"
    }
   ],
   "source": [
    "plt.plot(q_learning.episode_rewards)"
   ]
  },
  {
   "cell_type": "code",
   "execution_count": null,
   "metadata": {},
   "outputs": [
    {
     "data": {
      "text/plain": [
       "[<matplotlib.lines.Line2D at 0x21253f86850>]"
      ]
     },
     "execution_count": 55,
     "metadata": {},
     "output_type": "execute_result"
    },
    {
     "data": {
      "image/png": "[encoded data removed]",
      "text/plain": [
       "<Figure size 640x480 with 1 Axes>"
      ]
     },
     "metadata": {},
     "output_type": "display_data"
    }
   ],
   "source": [
    "n = 2500\n",
    "ma = np.convolve(q_learning.episode_rewards, np.ones(n) / n, 'valid')\n",
    "plt.plot(ma)"
   ]
  },
  {
   "cell_type": "markdown",
   "metadata": {},
   "source": [
    "### Sarsa-AGDS"
   ]
  },
  {
   "cell_type": "code",
   "execution_count": 7,
   "metadata": {},
   "outputs": [
    {
     "name": "stdout",
     "output_type": "stream",
     "text": [
      "Got message: b'\"started\"'\n",
      "Subprocess \"vis\" started successfully\n",
      "Got message: b'\"started\"'\n",
      "Subprocess \"backend\" started successfully\n"
     ]
    }
   ],
   "source": [
    "associata.init()"
   ]
  },
  {
   "cell_type": "code",
   "execution_count": 8,
   "metadata": {},
   "outputs": [],
   "source": [
    "sarsa_agds = SarsaAGDS(state_space_feature_names, state_space_bounds, state_space_epsilon, action_space)"
   ]
  },
  {
   "cell_type": "code",
   "execution_count": 9,
   "metadata": {},
   "outputs": [
    {
     "name": "stdout",
     "output_type": "stream",
     "text": [
      "\n",
      "=============== Step 0 ===============\n",
      "State: [ 0.0273956  -0.00611216  0.03585979  0.0197368 ]\n",
      "Reward (for prevoius action): None\n",
      "\n",
      "Picked action: [0]\n",
      "\n",
      "=============== Step 1 ===============\n",
      "State: [ 0.02727336 -0.20172954  0.03625453  0.32351476]\n",
      "Reward (for prevoius action): 1.0\n",
      "\n",
      "Best sa: None\n",
      "Picked action: [0]\n",
      "Adding observation: {add_observation,#{\"x_pos\" => 0.02739560417830944, \"x_speed\" => -0.006112155970185995, \"ang_pos\" => 0.03585979342460632, \"ang_speed\" => 0.019736802205443382, \"value\" => 0.2, \"action\" => 0}}.\n",
      "\n",
      "=============== Step 2 ===============\n",
      "State: [ 0.02323877 -0.39734846  0.04272482  0.62740684]\n",
      "Reward (for prevoius action): 1.0\n",
      "\n",
      "Best sa: 0\n",
      "Best sa neigh nodes: [('vn', 'x_speed', '-0.006112155970185995'), ('vn', 'x_pos', '0.02739560417830944'), ('vn', 'ang_speed', '0.019736802205443382'), ('vn', 'ang_pos', '0.03585979342460632'), ('vn', 'value', '0.2'), ('vn', 'action', '0')]\n",
      "Picked action: [0]\n",
      "Adding observation: {add_observation,#{\"x_pos\" => 0.02727336250245571, \"x_speed\" => -0.20172953605651855, \"ang_pos\" => 0.036254528909921646, \"ang_speed\" => 0.32351475954055786, \"value\" => 0.4, \"action\" => 0}}.\n",
      "\n",
      "=============== Step 3 ===============\n",
      "State: [ 0.0152918  -0.5930399   0.05527296  0.9332334 ]\n",
      "Reward (for prevoius action): 1.0\n",
      "\n",
      "Best sa: 0\n",
      "Best sa neigh nodes: [('vn', 'x_speed', '-0.006112155970185995'), ('vn', 'x_pos', '0.02739560417830944'), ('vn', 'ang_speed', '0.019736802205443382'), ('vn', 'ang_pos', '0.03585979342460632'), ('vn', 'value', '0.2'), ('vn', 'action', '0')]\n",
      "Picked action: [0]\n",
      "Adding observation: {add_observation,#{\"x_pos\" => 0.02323877066373825, \"x_speed\" => -0.39734846353530884, \"ang_pos\" => 0.04272482171654701, \"ang_speed\" => 0.6274068355560303, \"value\" => 0.56, \"action\" => 0}}.\n",
      "\n",
      "=============== Step 4 ===============\n",
      "State: [ 0.003431   -0.7888622   0.07393762  1.2427603 ]\n",
      "Reward (for prevoius action): 1.0\n",
      "\n",
      "Best sa: 2\n",
      "Best sa neigh nodes: [('vn', 'x_speed', '-0.006112155970185995'), ('vn', 'x_pos', '0.02739560417830944'), ('vn', 'ang_speed', '0.6274068355560303'), ('vn', 'ang_pos', '0.03585979342460632'), ('vn', 'value', '0.56'), ('vn', 'action', '0')]\n",
      "Picked action: [0]\n",
      "Adding observation: {add_observation,#{\"x_pos\" => 0.015291801653802395, \"x_speed\" => -0.593039870262146, \"ang_pos\" => 0.05527295917272568, \"ang_speed\" => 0.933233380317688, \"value\" => 0.47200000000000003, \"action\" => 0}}.\n",
      "\n",
      "=============== Step 5 ===============\n",
      "State: [-0.01234624 -0.9848512   0.09879284  1.5576583 ]\n",
      "Reward (for prevoius action): 1.0\n",
      "\n",
      "Best sa: 3\n",
      "Best sa neigh nodes: [('vn', 'x_speed', '-0.593039870262146'), ('vn', 'ang_speed', '0.933233380317688'), ('vn', 'x_pos', '0.02739560417830944'), ('vn', 'ang_pos', '0.03585979342460632'), ('vn', 'value', '0.47200000000000003'), ('vn', 'action', '0')]\n",
      "Picked action: [0]\n",
      "Adding observation: {add_observation,#{\"x_pos\" => 0.0034310040064156055, \"x_speed\" => -0.7888622283935547, \"ang_pos\" => 0.07393762469291687, \"ang_speed\" => 1.2427603006362915, \"value\" => 0.7424000000000001, \"action\" => 0}}.\n",
      "\n",
      "=============== Step 6 ===============\n",
      "State: [-0.03204326 -1.1810076   0.129946    1.8794562 ]\n",
      "Reward (for prevoius action): 1.0\n",
      "\n",
      "Best sa: 4\n",
      "Best sa neigh nodes: [('vn', 'x_speed', '-0.593039870262146'), ('vn', 'x_pos', '0.02739560417830944'), ('vn', 'ang_speed', '1.2427603006362915'), ('vn', 'ang_pos', '0.03585979342460632'), ('vn', 'value', '0.7424000000000001'), ('vn', 'action', '0')]\n",
      "Picked action: [0]\n",
      "Adding observation: {add_observation,#{\"x_pos\" => -0.012346240691840649, \"x_speed\" => -0.9848511815071106, \"ang_pos\" => 0.09879283607006073, \"ang_speed\" => 1.557658314704895, \"value\" => 0.9424, \"action\" => 0}}.\n",
      "\n",
      "=============== Step 7 ===============\n",
      "State: [-0.05566342 -1.3772845   0.16753513  2.209486  ]\n",
      "Reward (for prevoius action): 1.0\n",
      "\n",
      "Best sa: 5\n",
      "Best sa neigh nodes: [('vn', 'x_speed', '-0.593039870262146'), ('vn', 'x_pos', '0.02739560417830944'), ('vn', 'ang_speed', '1.557658314704895'), ('vn', 'ang_pos', '0.09879283607006073'), ('vn', 'value', '0.9424'), ('vn', 'action', '0')]\n",
      "Picked action: [0]\n",
      "Adding observation: {add_observation,#{\"x_pos\" => -0.03204326331615448, \"x_speed\" => -1.1810076236724854, \"ang_pos\" => 0.12994599342346191, \"ang_speed\" => 1.8794561624526978, \"value\" => 0.8364800000000001, \"action\" => 0}}.\n",
      "\n",
      "=============== Step 8 ===============\n",
      "State: [-0.04058227  0.04756223  0.02611397  0.02860643]\n",
      "Reward (for prevoius action): None\n",
      "\n",
      "Best sa: 1\n",
      "Best sa neigh nodes: [('vn', 'ang_pos', '0.03585979342460632'), ('vn', 'x_speed', '-0.006112155970185995'), ('vn', 'x_pos', '0.02739560417830944'), ('vn', 'ang_speed', '0.32351475954055786'), ('vn', 'value', '0.4'), ('vn', 'action', '0')]\n",
      "Picked action: [0]\n",
      "\n",
      "=============== Step 9 ===============\n",
      "State: [-0.03963102 -0.14792429  0.0266861   0.32941288]\n",
      "Reward (for prevoius action): 1.0\n",
      "\n",
      "Best sa: 1\n",
      "Best sa neigh nodes: [('vn', 'ang_pos', '0.03585979342460632'), ('vn', 'x_speed', '-0.006112155970185995'), ('vn', 'x_pos', '0.02739560417830944'), ('vn', 'ang_speed', '0.32351475954055786'), ('vn', 'value', '0.4'), ('vn', 'action', '0')]\n",
      "Picked action: [0]\n",
      "Adding observation: {add_observation,#{\"x_pos\" => -0.040582265704870224, \"x_speed\" => 0.04756223410367966, \"ang_pos\" => 0.026113970205187798, \"ang_speed\" => 0.02860642969608307, \"value\" => 0.6176, \"action\" => 0}}.\n",
      "\n",
      "=============== Step 10 ===============\n",
      "State: [-0.04258951 -0.34341577  0.03327436  0.63039047]\n",
      "Reward (for prevoius action): 1.0\n",
      "\n",
      "Best sa: 2\n",
      "Best sa neigh nodes: [('vn', 'x_speed', '-0.006112155970185995'), ('vn', 'x_pos', '0.02739560417830944'), ('vn', 'ang_speed', '0.6274068355560303'), ('vn', 'ang_pos', '0.03585979342460632'), ('vn', 'value', '0.56'), ('vn', 'action', '0')]\n",
      "Picked action: [0]\n",
      "Adding observation: {add_observation,#{\"x_pos\" => -0.03963102027773857, \"x_speed\" => -0.1479242891073227, \"ang_pos\" => 0.02668609842658043, \"ang_speed\" => 0.32941287755966187, \"value\" => 0.6, \"action\" => 0}}.\n",
      "\n",
      "=============== Step 11 ===============\n",
      "State: [-0.04945782 -0.53898585  0.04588217  0.93336403]\n",
      "Reward (for prevoius action): 1.0\n",
      "\n",
      "Best sa: 4\n",
      "Best sa neigh nodes: [('vn', 'x_speed', '-0.593039870262146'), ('vn', 'x_pos', '0.02739560417830944'), ('vn', 'ang_speed', '1.2427603006362915'), ('vn', 'ang_pos', '0.03585979342460632'), ('vn', 'value', '0.7424000000000001'), ('vn', 'action', '0')]\n",
      "Picked action: [0]\n",
      "Adding observation: {add_observation,#{\"x_pos\" => -0.04258950799703598, \"x_speed\" => -0.343415766954422, \"ang_pos\" => 0.03327435627579689, \"ang_speed\" => 0.630390465259552, \"value\" => 0.7424000000000001, \"action\" => 0}}.\n",
      "\n",
      "=============== Step 12 ===============\n",
      "State: [-0.06023754 -0.7346958   0.06454945  1.2401046 ]\n",
      "Reward (for prevoius action): 1.0\n",
      "\n",
      "Best sa: 5\n",
      "Best sa neigh nodes: [('vn', 'x_speed', '-0.593039870262146'), ('vn', 'x_pos', '0.02739560417830944'), ('vn', 'ang_speed', '1.557658314704895'), ('vn', 'ang_pos', '0.09879283607006073'), ('vn', 'value', '0.9424'), ('vn', 'action', '0')]\n",
      "Picked action: [0]\n",
      "Adding observation: {add_observation,#{\"x_pos\" => -0.04945782199501991, \"x_speed\" => -0.5389858484268188, \"ang_pos\" => 0.04588216543197632, \"ang_speed\" => 0.9333640336990356, \"value\" => 0.88832, \"action\" => 0}}.\n",
      "\n",
      "=============== Step 13 ===============\n",
      "State: [-0.07493145 -0.9305845   0.08935153  1.5522901 ]\n",
      "Reward (for prevoius action): 1.0\n",
      "\n",
      "Best sa: 6\n",
      "Best sa neigh nodes: [('vn', 'x_speed', '-1.1810076236724854'), ('vn', 'ang_speed', '1.8794561624526978'), ('vn', 'x_pos', '0.02739560417830944'), ('vn', 'ang_pos', '0.09879283607006073'), ('vn', 'value', '0.8364800000000001'), ('vn', 'action', '0')]\n",
      "Picked action: [0]\n",
      "Adding observation: {add_observation,#{\"x_pos\" => -0.06023753806948662, \"x_speed\" => -0.7346957921981812, \"ang_pos\" => 0.06454944610595703, \"ang_speed\" => 1.2401045560836792, \"value\" => 0.9424, \"action\" => 0}}.\n",
      "\n",
      "=============== Step 14 ===============\n",
      "State: [-0.09354314 -1.126657    0.12039734  1.8714601 ]\n",
      "Reward (for prevoius action): 1.0\n",
      "\n",
      "Best sa: 6\n",
      "Best sa neigh nodes: [('vn', 'x_speed', '-1.1810076236724854'), ('vn', 'ang_speed', '1.8794561624526978'), ('vn', 'x_pos', '0.02739560417830944'), ('vn', 'ang_pos', '0.09879283607006073'), ('vn', 'value', '0.8364800000000001'), ('vn', 'action', '0')]\n",
      "Picked action: [0]\n",
      "Adding observation: {add_observation,#{\"x_pos\" => -0.07493145018815994, \"x_speed\" => -0.9305844902992249, \"ang_pos\" => 0.08935153484344482, \"ang_speed\" => 1.5522900819778442, \"value\" => 1.121216, \"action\" => 0}}.\n",
      "\n",
      "=============== Step 15 ===============\n",
      "State: [-0.11607628 -1.3228716   0.15782654  2.1989627 ]\n",
      "Reward (for prevoius action): 1.0\n",
      "\n",
      "Best sa: 6\n",
      "Best sa neigh nodes: [('vn', 'x_speed', '-1.1810076236724854'), ('vn', 'ang_speed', '1.8794561624526978'), ('vn', 'x_pos', '0.02739560417830944'), ('vn', 'ang_pos', '0.09879283607006073'), ('vn', 'value', '0.8364800000000001'), ('vn', 'action', '0')]\n",
      "Picked action: [0]\n",
      "Adding observation: {add_observation,#{\"x_pos\" => -0.093543142080307, \"x_speed\" => -1.1266570091247559, \"ang_pos\" => 0.12039733678102493, \"ang_speed\" => 1.8714600801467896, \"value\" => 1.121216, \"action\" => 0}}.\n",
      "\n",
      "=============== Step 16 ===============\n",
      "State: [-0.14253372 -1.5191233   0.2018058   2.53589   ]\n",
      "Reward (for prevoius action): 1.0\n",
      "\n",
      "Best sa: 13\n",
      "Best sa neigh nodes: [('vn', 'x_pos', '-0.07493145018815994'), ('vn', 'x_speed', '-1.1810076236724854'), ('vn', 'ang_pos', '0.09879283607006073'), ('vn', 'ang_speed', '1.8794561624526978'), ('vn', 'action', '0'), ('vn', 'value', '1.121216')]\n",
      "Picked action: [0]\n",
      "Adding observation: {add_observation,#{\"x_pos\" => -0.1160762831568718, \"x_speed\" => -1.3228715658187866, \"ang_pos\" => 0.15782654285430908, \"ang_speed\" => 2.198962688446045, \"value\" => 1.0181632, \"action\" => 0}}.\n",
      "\n",
      "=============== Step 17 ===============\n",
      "State: [-0.03718864 -0.00496141 -0.0129202   0.0426765 ]\n",
      "Reward (for prevoius action): None\n",
      "\n",
      "Best sa: 7\n",
      "Best sa neigh nodes: [('vn', 'x_speed', '-0.006112155970185995'), ('vn', 'x_pos', '0.02739560417830944'), ('vn', 'ang_pos', '0.03585979342460632'), ('vn', 'ang_speed', '0.019736802205443382'), ('vn', 'value', '0.6176'), ('vn', 'action', '0')]\n",
      "Picked action: [0]\n",
      "\n",
      "=============== Step 18 ===============\n",
      "State: [-0.03728786 -0.19989572 -0.01206667  0.33125514]\n",
      "Reward (for prevoius action): 1.0\n",
      "\n",
      "Best sa: 14\n",
      "Best sa neigh nodes: [('vn', 'ang_speed', '2.198962688446045'), ('vn', 'ang_pos', '0.15782654285430908'), ('vn', 'x_speed', '-1.1810076236724854'), ('vn', 'x_pos', '-0.07493145018815994'), ('vn', 'action', '0'), ('vn', 'value', '1.0181632')]\n",
      "Picked action: [0]\n",
      "Adding observation: {add_observation,#{\"x_pos\" => -0.037188638001680374, \"x_speed\" => -0.004961406346410513, \"ang_pos\" => -0.012920198030769825, \"ang_speed\" => 0.042676497250795364, \"value\" => 0.87392, \"action\" => 0}}.\n",
      "\n",
      "=============== Step 19 ===============\n",
      "State: [-0.04128578 -0.39484385 -0.00544156  0.62010854]\n",
      "Reward (for prevoius action): 1.0\n",
      "\n",
      "Best sa: 10\n",
      "Best sa neigh nodes: None\n"
     ]
    },
    {
     "ename": "TypeError",
     "evalue": "'NoneType' object is not iterable",
     "output_type": "error",
     "traceback": [
      "\u001b[1;31m---------------------------------------------------------------------------\u001b[0m",
      "\u001b[1;31mTypeError\u001b[0m                                 Traceback (most recent call last)",
      "Cell \u001b[1;32mIn[9], line 7\u001b[0m\n\u001b[0;32m      4\u001b[0m reward \u001b[38;5;241m=\u001b[39m \u001b[38;5;28;01mNone\u001b[39;00m\n\u001b[0;32m      6\u001b[0m \u001b[38;5;28;01mfor\u001b[39;00m _ \u001b[38;5;129;01min\u001b[39;00m \u001b[38;5;28mrange\u001b[39m(\u001b[38;5;241m100\u001b[39m):\n\u001b[1;32m----> 7\u001b[0m     action \u001b[38;5;241m=\u001b[39m \u001b[43msarsa_agds\u001b[49m\u001b[38;5;241;43m.\u001b[39;49m\u001b[43mstep\u001b[49m\u001b[43m(\u001b[49m\u001b[43mobservation\u001b[49m\u001b[43m,\u001b[49m\u001b[43m \u001b[49m\u001b[43mreward\u001b[49m\u001b[43m)\u001b[49m[\u001b[38;5;241m0\u001b[39m]\n\u001b[0;32m      8\u001b[0m     observation, reward, terminated, truncated, info \u001b[38;5;241m=\u001b[39m env\u001b[38;5;241m.\u001b[39mstep(action)\n\u001b[0;32m     10\u001b[0m     \u001b[38;5;28;01mif\u001b[39;00m terminated \u001b[38;5;129;01mor\u001b[39;00m truncated:\n",
      "Cell \u001b[1;32mIn[4], line 29\u001b[0m, in \u001b[0;36mTD.step\u001b[1;34m(self, observation, reward)\u001b[0m\n\u001b[0;32m     25\u001b[0m state \u001b[38;5;241m=\u001b[39m \u001b[38;5;28mself\u001b[39m\u001b[38;5;241m.\u001b[39m_get_state(observation)\n\u001b[0;32m     27\u001b[0m \u001b[38;5;28mprint\u001b[39m(\u001b[38;5;124mf\u001b[39m\u001b[38;5;124m'\u001b[39m\u001b[38;5;124mState: \u001b[39m\u001b[38;5;132;01m{\u001b[39;00mstate\u001b[38;5;132;01m}\u001b[39;00m\u001b[38;5;130;01m\\n\u001b[39;00m\u001b[38;5;124mReward (for prevoius action): \u001b[39m\u001b[38;5;132;01m{\u001b[39;00mreward\u001b[38;5;132;01m}\u001b[39;00m\u001b[38;5;130;01m\\n\u001b[39;00m\u001b[38;5;124m'\u001b[39m)\n\u001b[1;32m---> 29\u001b[0m action \u001b[38;5;241m=\u001b[39m \u001b[38;5;28;43mself\u001b[39;49m\u001b[38;5;241;43m.\u001b[39;49m\u001b[43m_get_action\u001b[49m\u001b[43m(\u001b[49m\u001b[43mstate\u001b[49m\u001b[43m)\u001b[49m\n\u001b[0;32m     31\u001b[0m \u001b[38;5;28mprint\u001b[39m(\u001b[38;5;124mf\u001b[39m\u001b[38;5;124m'\u001b[39m\u001b[38;5;124mPicked action: \u001b[39m\u001b[38;5;132;01m{\u001b[39;00maction\u001b[38;5;132;01m}\u001b[39;00m\u001b[38;5;124m'\u001b[39m)\n\u001b[0;32m     33\u001b[0m \u001b[38;5;28;01mif\u001b[39;00m \u001b[38;5;28mself\u001b[39m\u001b[38;5;241m.\u001b[39m_last_action \u001b[38;5;129;01mis\u001b[39;00m \u001b[38;5;129;01mnot\u001b[39;00m \u001b[38;5;28;01mNone\u001b[39;00m \u001b[38;5;129;01mand\u001b[39;00m reward \u001b[38;5;129;01mis\u001b[39;00m \u001b[38;5;129;01mnot\u001b[39;00m \u001b[38;5;28;01mNone\u001b[39;00m:\n",
      "Cell \u001b[1;32mIn[5], line 35\u001b[0m, in \u001b[0;36mSarsaAGDS._get_action\u001b[1;34m(self, state)\u001b[0m\n\u001b[0;32m     33\u001b[0m best_sa_neigh_nodes \u001b[38;5;241m=\u001b[39m \u001b[38;5;28mself\u001b[39m\u001b[38;5;241m.\u001b[39mq\u001b[38;5;241m.\u001b[39mget_on_neighbours(best_sa)\n\u001b[0;32m     34\u001b[0m \u001b[38;5;28mprint\u001b[39m(\u001b[38;5;124mf\u001b[39m\u001b[38;5;124m'\u001b[39m\u001b[38;5;124mBest sa neigh nodes: \u001b[39m\u001b[38;5;132;01m{\u001b[39;00mbest_sa_neigh_nodes\u001b[38;5;132;01m}\u001b[39;00m\u001b[38;5;124m'\u001b[39m)\n\u001b[1;32m---> 35\u001b[0m \u001b[38;5;28;01mreturn\u001b[39;00m np\u001b[38;5;241m.\u001b[39marray(\u001b[43m[\u001b[49m\u001b[38;5;28;43mint\u001b[39;49m\u001b[43m(\u001b[49m\u001b[38;5;28;43mfloat\u001b[39;49m\u001b[43m(\u001b[49m\u001b[43mef\u001b[49m\u001b[43m[\u001b[49m\u001b[38;5;241;43m2\u001b[39;49m\u001b[43m]\u001b[49m\u001b[43m)\u001b[49m\u001b[43m)\u001b[49m\u001b[43m \u001b[49m\u001b[38;5;28;43;01mfor\u001b[39;49;00m\u001b[43m \u001b[49m\u001b[43mef\u001b[49m\u001b[43m \u001b[49m\u001b[38;5;129;43;01min\u001b[39;49;00m\u001b[43m \u001b[49m\u001b[43mbest_sa_neigh_nodes\u001b[49m\u001b[43m \u001b[49m\u001b[38;5;28;43;01mif\u001b[39;49;00m\u001b[43m \u001b[49m\u001b[43mef\u001b[49m\u001b[43m[\u001b[49m\u001b[38;5;241;43m0\u001b[39;49m\u001b[43m]\u001b[49m\u001b[43m \u001b[49m\u001b[38;5;241;43m==\u001b[39;49m\u001b[43m \u001b[49m\u001b[38;5;124;43m'\u001b[39;49m\u001b[38;5;124;43mvn\u001b[39;49m\u001b[38;5;124;43m'\u001b[39;49m\u001b[43m \u001b[49m\u001b[38;5;129;43;01mand\u001b[39;49;00m\u001b[43m \u001b[49m\u001b[43mef\u001b[49m\u001b[43m[\u001b[49m\u001b[38;5;241;43m1\u001b[39;49m\u001b[43m]\u001b[49m\u001b[43m \u001b[49m\u001b[38;5;241;43m==\u001b[39;49m\u001b[43m \u001b[49m\u001b[38;5;124;43m'\u001b[39;49m\u001b[38;5;124;43maction\u001b[39;49m\u001b[38;5;124;43m'\u001b[39;49m\u001b[43m]\u001b[49m)\n",
      "\u001b[1;31mTypeError\u001b[0m: 'NoneType' object is not iterable"
     ]
    }
   ],
   "source": [
    "env = gym.make(\"CartPole-v1\", render_mode=\"human\")\n",
    "observation, info = env.reset(seed=42)\n",
    "\n",
    "reward = None\n",
    "\n",
    "for _ in range(100):\n",
    "    action = sarsa_agds.step(observation, reward)[0]\n",
    "    observation, reward, terminated, truncated, info = env.step(action)\n",
    "\n",
    "    if terminated or truncated:\n",
    "        observation, info = env.reset()\n",
    "        sarsa_agds.reset_episode()\n",
    "        reward = None\n",
    "\n",
    "sarsa_agds.reset_episode(False)\n",
    "env.close()"
   ]
  },
  {
   "cell_type": "code",
   "execution_count": 13,
   "metadata": {},
   "outputs": [
    {
     "data": {
      "text/plain": [
       "[<matplotlib.lines.Line2D at 0x1a78ebe4510>]"
      ]
     },
     "execution_count": 13,
     "metadata": {},
     "output_type": "execute_result"
    },
    {
     "data": {
      "image/png": "[encoded data removed]",
      "text/plain": [
       "<Figure size 640x480 with 1 Axes>"
      ]
     },
     "metadata": {},
     "output_type": "display_data"
    }
   ],
   "source": [
    "plt.plot(sarsa_agds.episode_rewards)"
   ]
  },
  {
   "cell_type": "code",
   "execution_count": 10,
   "metadata": {},
   "outputs": [
    {
     "name": "stdout",
     "output_type": "stream",
     "text": [
      "WARNING: AAS structure stopping failed\n",
      "WARNING: AAS visualization stopping for structure failed\n"
     ]
    }
   ],
   "source": [
    "sarsa_agds.stop()"
   ]
  },
  {
   "cell_type": "code",
   "execution_count": 10,
   "metadata": {},
   "outputs": [
    {
     "name": "stdout",
     "output_type": "stream",
     "text": [
      "Subprocess \"backend\" stopped successfully\n",
      "Subprocess \"vis\" stopped successfully\n"
     ]
    }
   ],
   "source": [
    "associata.stop()"
   ]
  }
 ],
 "metadata": {
  "kernelspec": {
   "display_name": "Python 3",
   "language": "python",
   "name": "python3"
  },
  "language_info": {
   "codemirror_mode": {
    "name": "ipython",
    "version": 3
   },
   "file_extension": ".py",
   "mimetype": "text/x-python",
   "name": "python",
   "nbconvert_exporter": "python",
   "pygments_lexer": "ipython3",
   "version": "3.11.7"
  }
 },
 "nbformat": 4,
 "nbformat_minor": 2
}
