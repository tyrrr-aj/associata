{
 "cells": [
  {
   "cell_type": "markdown",
   "metadata": {},
   "source": [
    "# General"
   ]
  },
  {
   "cell_type": "code",
   "execution_count": 1,
   "metadata": {},
   "outputs": [],
   "source": [
    "import associata\n",
    "from associata import AGDS"
   ]
  },
  {
   "cell_type": "code",
   "execution_count": 2,
   "metadata": {},
   "outputs": [
    {
     "name": "stdout",
     "output_type": "stream",
     "text": [
      "Got message: b'\"started\"'\n",
      "Subprocess \"vis\" started successfully\n",
      "Got message: b'\"started\"'\n",
      "Subprocess \"backend\" started successfully\n"
     ]
    }
   ],
   "source": [
    "associata.init()"
   ]
  },
  {
   "cell_type": "code",
   "execution_count": 3,
   "metadata": {},
   "outputs": [],
   "source": [
    "agds = AGDS()"
   ]
  },
  {
   "cell_type": "code",
   "execution_count": 4,
   "metadata": {},
   "outputs": [],
   "source": [
    "agds.add_numerical_vng(\"plato\", 1)\n",
    "agds.add_numerical_vng(\"ibu\", 10)\n",
    "agds.add_numerical_vng(\"ebc\", 10)\n",
    "agds.add_categorical_vng(\"style\")"
   ]
  },
  {
   "cell_type": "code",
   "execution_count": 40,
   "metadata": {},
   "outputs": [
    {
     "name": "stdout",
     "output_type": "stream",
     "text": [
      "Adding observation: {add_observation,#{\"plato\" => 12, \"ibu\" => 30, \"ebc\" => 10, \"style\" => \"pale ale\"}}.\n",
      "Adding observation: {add_observation,#{\"plato\" => 14, \"ibu\" => 40, \"ebc\" => 20, \"style\" => \"inda pale ale\"}}.\n",
      "Adding observation: {add_observation,#{\"plato\" => 16, \"ibu\" => 50, \"ebc\" => 40, \"style\" => \"bitter\"}}.\n",
      "Adding observation: {add_observation,#{\"plato\" => 18, \"ibu\" => 60, \"ebc\" => 60, \"style\" => \"stout\"}}.\n",
      "Adding observation: {add_observation,#{\"plato\" => 30, \"ibu\" => 110, \"ebc\" => 600, \"style\" => \"imperial stout\"}}.\n",
      "Adding observation: {add_observation,#{\"plato\" => 22, \"ibu\" => 80, \"ebc\" => 100, \"style\" => \"barley wine\"}}.\n",
      "Adding observation: {add_observation,#{\"plato\" => 24, \"ibu\" => 90, \"ebc\" => 120, \"style\" => \"wee heavy\"}}.\n",
      "Adding observation: {add_observation,#{\"plato\" => 26, \"ibu\" => 100, \"ebc\" => 500, \"style\" => \"imperial baltic porter\"}}.\n"
     ]
    }
   ],
   "source": [
    "agds.add_observation({\"plato\": 12, \"ibu\": 30, \"ebc\": 10, \"style\": '\"pale ale\"'})\n",
    "agds.add_observation({\"plato\": 14, \"ibu\": 40, \"ebc\": 20, \"style\": '\"inda pale ale\"'})\n",
    "agds.add_observation({\"plato\": 16, \"ibu\": 50, \"ebc\": 40, \"style\": '\"bitter\"'})\n",
    "agds.add_observation({\"plato\": 18, \"ibu\": 60, \"ebc\": 60, \"style\": '\"stout\"'})\n",
    "agds.add_observation({\"plato\": 30, \"ibu\": 110, \"ebc\": 600, \"style\": '\"imperial stout\"'})\n",
    "agds.add_observation({\"plato\": 22, \"ibu\": 80, \"ebc\": 100, \"style\": '\"barley wine\"'})\n",
    "agds.add_observation({\"plato\": 24, \"ibu\": 90, \"ebc\": 120, \"style\": '\"wee heavy\"'})\n",
    "agds.add_observation({\"plato\": 26, \"ibu\": 100, \"ebc\": 500, \"style\": '\"imperial baltic porter\"'})"
   ]
  },
  {
   "cell_type": "code",
   "execution_count": 36,
   "metadata": {},
   "outputs": [],
   "source": [
    "inf_setup = associata.InferenceSetup()\n",
    "inf_setup.stimulate_vn(\"plato\", 15)\n",
    "inf_setup.stimulate_vn(\"ibu\", 50)\n",
    "inf_setup.stimulate_vn(\"ebc\", 10)\n",
    "\n",
    "agds.infere(inf_setup, 4)"
   ]
  },
  {
   "cell_type": "code",
   "execution_count": 37,
   "metadata": {},
   "outputs": [
    {
     "data": {
      "text/plain": [
       "{'12': 2.9123609205913734,\n",
       " '14': 7.124397440964714,\n",
       " '16': 5.2663465935070874,\n",
       " '18': 4.295210333790581,\n",
       " '22': 1.233348574912361,\n",
       " '24': 0.5803993293705227,\n",
       " '26': 0.0,\n",
       " '30': 0.0}"
      ]
     },
     "execution_count": 37,
     "metadata": {},
     "output_type": "execute_result"
    }
   ],
   "source": [
    "agds.get_excitations_for_vng(\"plato\")"
   ]
  },
  {
   "cell_type": "code",
   "execution_count": 38,
   "metadata": {},
   "outputs": [
    {
     "data": {
      "text/plain": [
       "{'20': 0.0,\n",
       " '21': 0.43639974851394603,\n",
       " '22': 0.0,\n",
       " '25': 3.275561774894795,\n",
       " '27': 1.230366941015089,\n",
       " '28': 0.0,\n",
       " '29': 0.43639974851394603,\n",
       " '30': 0.0,\n",
       " '31': 0.0,\n",
       " '33': 3.275561774894795,\n",
       " '35': 1.230366941015089,\n",
       " '36': 0.0,\n",
       " '37': 0.43639974851394603,\n",
       " '38': 0.0,\n",
       " '39': 0.0}"
      ]
     },
     "execution_count": 38,
     "metadata": {},
     "output_type": "execute_result"
    }
   ],
   "source": [
    "agds.get_excitations_for_ong()"
   ]
  },
  {
   "cell_type": "code",
   "execution_count": 39,
   "metadata": {},
   "outputs": [],
   "source": [
    "agds.reset_excitation()"
   ]
  },
  {
   "cell_type": "code",
   "execution_count": 32,
   "metadata": {},
   "outputs": [],
   "source": [
    "inf_setup = associata.InferenceSetup()\n",
    "inf_setup.stimulate_vn(\"plato\", 30)\n",
    "inf_setup.stimulate_vn(\"ibu\", 50)\n",
    "inf_setup.stimulate_vn(\"ebc\", 10)\n",
    "\n",
    "agds.poison(inf_setup, 4, 2.0)"
   ]
  },
  {
   "cell_type": "code",
   "execution_count": 9,
   "metadata": {},
   "outputs": [],
   "source": [
    "inf_setup = associata.InferenceSetup()\n",
    "inf_setup.stimulate_vng_with_repr_values(\"plato\")\n",
    "\n",
    "agds.infere(inf_setup, 1)"
   ]
  },
  {
   "cell_type": "code",
   "execution_count": 27,
   "metadata": {},
   "outputs": [
    {
     "data": {
      "text/plain": [
       "[('vn', 'ibu', '110'),\n",
       " ('vn', 'style', '\"imperial stout\"'),\n",
       " ('vn', 'ebc', '600'),\n",
       " ('vn', 'plato', '30')]"
      ]
     },
     "execution_count": 27,
     "metadata": {},
     "output_type": "execute_result"
    }
   ],
   "source": [
    "agds.get_on_neighbours(4)"
   ]
  },
  {
   "cell_type": "code",
   "execution_count": 34,
   "metadata": {},
   "outputs": [
    {
     "data": {
      "text/plain": [
       "[]"
      ]
     },
     "execution_count": 34,
     "metadata": {},
     "output_type": "execute_result"
    }
   ],
   "source": [
    "agds.get_vn_neighbours('style', '\"imperial baltic porter\"')"
   ]
  },
  {
   "cell_type": "code",
   "execution_count": 41,
   "metadata": {},
   "outputs": [
    {
     "name": "stdout",
     "output_type": "stream",
     "text": [
      "Got message: b'\"structure_stopped\"'\n",
      "Got message: b'\"vis_stopped\"'\n"
     ]
    }
   ],
   "source": [
    "agds.stop()"
   ]
  },
  {
   "cell_type": "code",
   "execution_count": 42,
   "metadata": {},
   "outputs": [
    {
     "name": "stdout",
     "output_type": "stream",
     "text": [
      "Subprocess \"backend\" stopped successfully\n",
      "Subprocess \"vis\" stopped successfully\n"
     ]
    }
   ],
   "source": [
    "associata.stop()"
   ]
  },
  {
   "cell_type": "markdown",
   "metadata": {},
   "source": [
    "# Investigation"
   ]
  },
  {
   "cell_type": "code",
   "execution_count": 4,
   "metadata": {},
   "outputs": [],
   "source": [
    "import associata\n",
    "from associata import AGDS"
   ]
  },
  {
   "cell_type": "code",
   "execution_count": 5,
   "metadata": {},
   "outputs": [
    {
     "name": "stdout",
     "output_type": "stream",
     "text": [
      "Got message: b'\"started\"'\n",
      "Subprocess \"vis\" started successfully\n",
      "Got message: b'\"started\"'\n",
      "Subprocess \"backend\" started successfully\n"
     ]
    }
   ],
   "source": [
    "associata.init()"
   ]
  },
  {
   "cell_type": "code",
   "execution_count": 6,
   "metadata": {},
   "outputs": [],
   "source": [
    "agds = AGDS()"
   ]
  },
  {
   "cell_type": "code",
   "execution_count": 7,
   "metadata": {},
   "outputs": [],
   "source": [
    "agds.add_numerical_vng(\"x_pos\", 0.5)\n",
    "agds.add_numerical_vng(\"x_speed\", 0.5)\n",
    "agds.add_numerical_vng(\"ang_pos\", 0.05)\n",
    "agds.add_numerical_vng(\"ang_speed\", 0.5)\n",
    "\n",
    "agds.add_categorical_vng(\"value\")\n",
    "agds.add_categorical_vng(\"action\")"
   ]
  },
  {
   "cell_type": "code",
   "execution_count": 8,
   "metadata": {},
   "outputs": [],
   "source": [
    "agds.add_observation({\"x_pos\": 0.0273956, \"x_speed\": -0.00611216, \"ang_pos\": 0.03585979, \"ang_speed\": 0.0197368, \"value\": 0.2, \"action\": 0})"
   ]
  },
  {
   "cell_type": "code",
   "execution_count": 9,
   "metadata": {},
   "outputs": [],
   "source": [
    "agds.add_observation({\"x_pos\": 0.02727336, \"x_speed\": -0.20172954, \"ang_pos\": 0.03625453, \"ang_speed\": 0.32351476, \"value\": 0.4, \"action\": 0})"
   ]
  },
  {
   "cell_type": "code",
   "execution_count": 11,
   "metadata": {},
   "outputs": [
    {
     "data": {
      "text/plain": [
       "[('vn', 'value', '0.2'),\n",
       " ('vn', 'x_speed', '-0.00611216'),\n",
       " ('vn', 'x_pos', '0.0273956'),\n",
       " ('vn', 'ang_speed', '0.0197368'),\n",
       " ('vn', 'ang_pos', '0.03585979'),\n",
       " ('vn', 'action', '0')]"
      ]
     },
     "execution_count": 11,
     "metadata": {},
     "output_type": "execute_result"
    }
   ],
   "source": [
    "agds.get_on_neighbours(0)"
   ]
  },
  {
   "cell_type": "code",
   "execution_count": 12,
   "metadata": {},
   "outputs": [
    {
     "data": {
      "text/plain": [
       "[('on', 1), ('on', 0)]"
      ]
     },
     "execution_count": 12,
     "metadata": {},
     "output_type": "execute_result"
    }
   ],
   "source": [
    "agds.get_vn_neighbours('ang_pos', 0.03585979)"
   ]
  },
  {
   "cell_type": "code",
   "execution_count": 13,
   "metadata": {},
   "outputs": [
    {
     "name": "stdout",
     "output_type": "stream",
     "text": [
      "Got message: b'\"structure_stopped\"'\n",
      "Got message: b'\"vis_stopped\"'\n"
     ]
    }
   ],
   "source": [
    "agds.stop()"
   ]
  },
  {
   "cell_type": "code",
   "execution_count": 14,
   "metadata": {},
   "outputs": [
    {
     "name": "stdout",
     "output_type": "stream",
     "text": [
      "Subprocess \"backend\" stopped successfully\n",
      "Subprocess \"vis\" stopped successfully\n"
     ]
    }
   ],
   "source": [
    "associata.stop()"
   ]
  }
 ],
 "metadata": {
  "kernelspec": {
   "display_name": "Python 3",
   "language": "python",
   "name": "python3"
  },
  "language_info": {
   "codemirror_mode": {
    "name": "ipython",
    "version": 3
   },
   "file_extension": ".py",
   "mimetype": "text/x-python",
   "name": "python",
   "nbconvert_exporter": "python",
   "pygments_lexer": "ipython3",
   "version": "3.11.7"
  }
 },
 "nbformat": 4,
 "nbformat_minor": 2
}
