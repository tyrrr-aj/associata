{
 "cells": [
  {
   "cell_type": "markdown",
   "metadata": {},
   "source": [
    "# General"
   ]
  },
  {
   "cell_type": "code",
   "execution_count": 1,
   "metadata": {},
   "outputs": [],
   "source": [
    "import associata\n",
    "from associata import AGDS"
   ]
  },
  {
   "cell_type": "code",
   "execution_count": 2,
   "metadata": {},
   "outputs": [
    {
     "name": "stdout",
     "output_type": "stream",
     "text": [
      "Got message: b'\"started\"'\n",
      "Subprocess \"vis\" started successfully\n",
      "Got message: b'\"started\"'\n",
      "Subprocess \"backend\" started successfully\n"
     ]
    }
   ],
   "source": [
    "associata.init()"
   ]
  },
  {
   "cell_type": "code",
   "execution_count": 3,
   "metadata": {},
   "outputs": [],
   "source": [
    "agds = AGDS()"
   ]
  },
  {
   "cell_type": "code",
   "execution_count": 4,
   "metadata": {},
   "outputs": [],
   "source": [
    "agds.add_numerical_vng(\"plato\", 1)\n",
    "agds.add_numerical_vng(\"ibu\", 10)\n",
    "agds.add_numerical_vng(\"ebc\", 10)\n",
    "agds.add_categorical_vng(\"style\")"
   ]
  },
  {
   "cell_type": "code",
   "execution_count": 5,
   "metadata": {},
   "outputs": [],
   "source": [
    "agds.add_observation({\"plato\": 12, \"ibu\": 30, \"ebc\": 10, \"style\": '\"pale ale\"'})\n",
    "agds.add_observation({\"plato\": 14, \"ibu\": 40, \"ebc\": 20, \"style\": '\"inda pale ale\"'})\n",
    "agds.add_observation({\"plato\": 16, \"ibu\": 50, \"ebc\": 40, \"style\": '\"bitter\"'})\n",
    "agds.add_observation({\"plato\": 18, \"ibu\": 60, \"ebc\": 60, \"style\": '\"stout\"'})\n",
    "agds.add_observation({\"plato\": 30, \"ibu\": 110, \"ebc\": 600, \"style\": '\"imperial stout\"'})\n",
    "agds.add_observation({\"plato\": 22, \"ibu\": 80, \"ebc\": 100, \"style\": '\"barley wine\"'})\n",
    "agds.add_observation({\"plato\": 24, \"ibu\": 90, \"ebc\": 120, \"style\": '\"wee heavy\"'})\n",
    "agds.add_observation({\"plato\": 26, \"ibu\": 100, \"ebc\": 500, \"style\": '\"imperial baltic porter\"'})"
   ]
  },
  {
   "cell_type": "code",
   "execution_count": 5,
   "metadata": {},
   "outputs": [],
   "source": [
    "inf_setup = associata.InferenceSetup()\n",
    "inf_setup.stimulate_vn(\"plato\", 15)\n",
    "inf_setup.stimulate_vn(\"ibu\", 50)\n",
    "inf_setup.stimulate_vn(\"ebc\", 10)\n",
    "\n",
    "agds.infere(inf_setup, 4)"
   ]
  },
  {
   "cell_type": "code",
   "execution_count": 6,
   "metadata": {},
   "outputs": [
    {
     "name": "stdout",
     "output_type": "stream",
     "text": [
      "Got message: b'{excitations,[]}'\n"
     ]
    },
    {
     "data": {
      "text/plain": [
       "{}"
      ]
     },
     "execution_count": 6,
     "metadata": {},
     "output_type": "execute_result"
    }
   ],
   "source": [
    "agds.get_excitations_for_vng(\"plato\")"
   ]
  },
  {
   "cell_type": "code",
   "execution_count": 7,
   "metadata": {},
   "outputs": [
    {
     "name": "stdout",
     "output_type": "stream",
     "text": [
      "Got message: b'{excitations,[]}'\n"
     ]
    },
    {
     "data": {
      "text/plain": [
       "{}"
      ]
     },
     "execution_count": 7,
     "metadata": {},
     "output_type": "execute_result"
    }
   ],
   "source": [
    "agds.get_excitations_for_ong()"
   ]
  },
  {
   "cell_type": "code",
   "execution_count": 9,
   "metadata": {},
   "outputs": [],
   "source": [
    "inf_setup = associata.InferenceSetup()\n",
    "inf_setup.stimulate_vng_with_repr_values(\"plato\")\n",
    "\n",
    "agds.infere(inf_setup, 1)"
   ]
  },
  {
   "cell_type": "code",
   "execution_count": 8,
   "metadata": {},
   "outputs": [
    {
     "name": "stdout",
     "output_type": "stream",
     "text": [
      "Got message: b'{neighbours,{badkey,2}}'\n"
     ]
    },
    {
     "data": {
      "text/plain": [
       "[]"
      ]
     },
     "execution_count": 8,
     "metadata": {},
     "output_type": "execute_result"
    }
   ],
   "source": [
    "agds.get_on_neighbours(2)"
   ]
  },
  {
   "cell_type": "code",
   "execution_count": 9,
   "metadata": {},
   "outputs": [
    {
     "name": "stdout",
     "output_type": "stream",
     "text": [
      "Got message: b'{neighbours,[]}'\n"
     ]
    },
    {
     "data": {
      "text/plain": [
       "[]"
      ]
     },
     "execution_count": 9,
     "metadata": {},
     "output_type": "execute_result"
    }
   ],
   "source": [
    "agds.get_vn_neighbours('style', '\"imperial baltic porter\"')"
   ]
  },
  {
   "cell_type": "code",
   "execution_count": 9,
   "metadata": {},
   "outputs": [
    {
     "name": "stdout",
     "output_type": "stream",
     "text": [
      "Got message: b'\"structure_stopped\"'\n",
      "WARNING: AAS visualization stopping for structure failed\n"
     ]
    }
   ],
   "source": [
    "agds.stop()"
   ]
  },
  {
   "cell_type": "code",
   "execution_count": 15,
   "metadata": {},
   "outputs": [
    {
     "name": "stdout",
     "output_type": "stream",
     "text": [
      "Subprocess \"backend\" stopped successfully\n",
      "Subprocess \"vis\" stopped successfully\n"
     ]
    }
   ],
   "source": [
    "associata.stop()"
   ]
  },
  {
   "cell_type": "markdown",
   "metadata": {},
   "source": [
    "# Investigation"
   ]
  },
  {
   "cell_type": "code",
   "execution_count": 4,
   "metadata": {},
   "outputs": [],
   "source": [
    "import associata\n",
    "from associata import AGDS"
   ]
  },
  {
   "cell_type": "code",
   "execution_count": 5,
   "metadata": {},
   "outputs": [
    {
     "name": "stdout",
     "output_type": "stream",
     "text": [
      "Got message: b'\"started\"'\n",
      "Subprocess \"vis\" started successfully\n",
      "Got message: b'\"started\"'\n",
      "Subprocess \"backend\" started successfully\n"
     ]
    }
   ],
   "source": [
    "associata.init()"
   ]
  },
  {
   "cell_type": "code",
   "execution_count": 6,
   "metadata": {},
   "outputs": [],
   "source": [
    "agds = AGDS()"
   ]
  },
  {
   "cell_type": "code",
   "execution_count": 7,
   "metadata": {},
   "outputs": [],
   "source": [
    "agds.add_numerical_vng(\"x_pos\", 0.5)\n",
    "agds.add_numerical_vng(\"x_speed\", 0.5)\n",
    "agds.add_numerical_vng(\"ang_pos\", 0.05)\n",
    "agds.add_numerical_vng(\"ang_speed\", 0.5)\n",
    "\n",
    "agds.add_categorical_vng(\"value\")\n",
    "agds.add_categorical_vng(\"action\")"
   ]
  },
  {
   "cell_type": "code",
   "execution_count": 8,
   "metadata": {},
   "outputs": [],
   "source": [
    "agds.add_observation({\"x_pos\": 0.0273956, \"x_speed\": -0.00611216, \"ang_pos\": 0.03585979, \"ang_speed\": 0.0197368, \"value\": 0.2, \"action\": 0})"
   ]
  },
  {
   "cell_type": "code",
   "execution_count": 9,
   "metadata": {},
   "outputs": [],
   "source": [
    "agds.add_observation({\"x_pos\": 0.02727336, \"x_speed\": -0.20172954, \"ang_pos\": 0.03625453, \"ang_speed\": 0.32351476, \"value\": 0.4, \"action\": 0})"
   ]
  },
  {
   "cell_type": "code",
   "execution_count": 11,
   "metadata": {},
   "outputs": [
    {
     "data": {
      "text/plain": [
       "[('vn', 'value', '0.2'),\n",
       " ('vn', 'x_speed', '-0.00611216'),\n",
       " ('vn', 'x_pos', '0.0273956'),\n",
       " ('vn', 'ang_speed', '0.0197368'),\n",
       " ('vn', 'ang_pos', '0.03585979'),\n",
       " ('vn', 'action', '0')]"
      ]
     },
     "execution_count": 11,
     "metadata": {},
     "output_type": "execute_result"
    }
   ],
   "source": [
    "agds.get_on_neighbours(0)"
   ]
  },
  {
   "cell_type": "code",
   "execution_count": 12,
   "metadata": {},
   "outputs": [
    {
     "data": {
      "text/plain": [
       "[('on', 1), ('on', 0)]"
      ]
     },
     "execution_count": 12,
     "metadata": {},
     "output_type": "execute_result"
    }
   ],
   "source": [
    "agds.get_vn_neighbours('ang_pos', 0.03585979)"
   ]
  },
  {
   "cell_type": "code",
   "execution_count": 13,
   "metadata": {},
   "outputs": [
    {
     "name": "stdout",
     "output_type": "stream",
     "text": [
      "Got message: b'\"structure_stopped\"'\n",
      "Got message: b'\"vis_stopped\"'\n"
     ]
    }
   ],
   "source": [
    "agds.stop()"
   ]
  },
  {
   "cell_type": "code",
   "execution_count": 14,
   "metadata": {},
   "outputs": [
    {
     "name": "stdout",
     "output_type": "stream",
     "text": [
      "Subprocess \"backend\" stopped successfully\n",
      "Subprocess \"vis\" stopped successfully\n"
     ]
    }
   ],
   "source": [
    "associata.stop()"
   ]
  }
 ],
 "metadata": {
  "kernelspec": {
   "display_name": "Python 3",
   "language": "python",
   "name": "python3"
  },
  "language_info": {
   "codemirror_mode": {
    "name": "ipython",
    "version": 3
   },
   "file_extension": ".py",
   "mimetype": "text/x-python",
   "name": "python",
   "nbconvert_exporter": "python",
   "pygments_lexer": "ipython3",
   "version": "3.11.7"
  }
 },
 "nbformat": 4,
 "nbformat_minor": 2
}
