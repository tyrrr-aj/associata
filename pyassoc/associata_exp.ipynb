{
 "cells": [
  {
   "cell_type": "code",
   "execution_count": 1,
   "metadata": {},
   "outputs": [],
   "source": [
    "import associata\n",
    "from associata import AGDS"
   ]
  },
  {
   "cell_type": "code",
   "execution_count": 2,
   "metadata": {},
   "outputs": [
    {
     "name": "stdout",
     "output_type": "stream",
     "text": [
      "Got message: b'\"started\"'\n",
      "Subprocess \"vis\" started successfully\n",
      "Got message: b'\"started\"'\n",
      "Subprocess \"backend\" started successfully\n"
     ]
    }
   ],
   "source": [
    "associata.init()"
   ]
  },
  {
   "cell_type": "code",
   "execution_count": 3,
   "metadata": {},
   "outputs": [],
   "source": [
    "agds = AGDS()"
   ]
  },
  {
   "cell_type": "code",
   "execution_count": 4,
   "metadata": {},
   "outputs": [],
   "source": [
    "agds.add_numerical_vng(\"plato\", 1)\n",
    "agds.add_numerical_vng(\"ibu\", 10)\n",
    "agds.add_numerical_vng(\"ebc\", 10)\n",
    "agds.add_categorical_vng(\"style\")"
   ]
  },
  {
   "cell_type": "code",
   "execution_count": 5,
   "metadata": {},
   "outputs": [],
   "source": [
    "agds.add_observation({\"plato\": 12, \"ibu\": 30, \"ebc\": 10, \"style\": '\"pale ale\"'})\n",
    "agds.add_observation({\"plato\": 14, \"ibu\": 40, \"ebc\": 20, \"style\": '\"inda pale ale\"'})\n",
    "agds.add_observation({\"plato\": 16, \"ibu\": 50, \"ebc\": 40, \"style\": '\"bitter\"'})\n",
    "agds.add_observation({\"plato\": 18, \"ibu\": 60, \"ebc\": 60, \"style\": '\"stout\"'})\n",
    "agds.add_observation({\"plato\": 30, \"ibu\": 110, \"ebc\": 600, \"style\": '\"imperial stout\"'})\n",
    "agds.add_observation({\"plato\": 22, \"ibu\": 80, \"ebc\": 100, \"style\": '\"barley wine\"'})\n",
    "agds.add_observation({\"plato\": 24, \"ibu\": 90, \"ebc\": 120, \"style\": '\"wee heavy\"'})\n",
    "agds.add_observation({\"plato\": 26, \"ibu\": 100, \"ebc\": 500, \"style\": '\"imperial baltic porter\"'})"
   ]
  },
  {
   "cell_type": "code",
   "execution_count": 6,
   "metadata": {},
   "outputs": [],
   "source": [
    "inf_setup = associata.InferenceSetup()\n",
    "inf_setup.stimulate_vn(\"plato\", 15)\n",
    "inf_setup.stimulate_vn(\"ibu\", 50)\n",
    "inf_setup.stimulate_vn(\"ebc\", 10)\n",
    "\n",
    "agds.infere(inf_setup, 4)"
   ]
  },
  {
   "cell_type": "code",
   "execution_count": 10,
   "metadata": {},
   "outputs": [
    {
     "name": "stdout",
     "output_type": "stream",
     "text": [
      "Got message: b'{excitations,[{12,12.0},{14,14.0},{16,16.0},{18,18.0},{22,22.0},{24,24.0},{26,26.0},{30,30.0}]}'\n"
     ]
    },
    {
     "data": {
      "text/plain": [
       "{'12': 12.0,\n",
       " '14': 14.0,\n",
       " '16': 16.0,\n",
       " '18': 18.0,\n",
       " '22': 22.0,\n",
       " '24': 24.0,\n",
       " '26': 26.0,\n",
       " '30': 30.0}"
      ]
     },
     "execution_count": 10,
     "metadata": {},
     "output_type": "execute_result"
    }
   ],
   "source": [
    "agds.get_excitations_for_vng(\"plato\")"
   ]
  },
  {
   "cell_type": "code",
   "execution_count": 8,
   "metadata": {},
   "outputs": [
    {
     "name": "stdout",
     "output_type": "stream",
     "text": [
      "Got message: b'{excitations,[{0,4.317747850717337},{1,5.1344568831229225},{2,6.757383125581985},{3,2.460733882030178},{4,0.0},{5,1.309199245541838},{6,0.0},{7,0.0}]}'\n"
     ]
    },
    {
     "data": {
      "text/plain": [
       "{'0': 4.317747850717337,\n",
       " '1': 5.1344568831229225,\n",
       " '2': 6.757383125581985,\n",
       " '3': 2.460733882030178,\n",
       " '4': 0.0,\n",
       " '5': 1.309199245541838,\n",
       " '6': 0.0,\n",
       " '7': 0.0}"
      ]
     },
     "execution_count": 8,
     "metadata": {},
     "output_type": "execute_result"
    }
   ],
   "source": [
    "agds.get_excitations_for_ong()"
   ]
  },
  {
   "cell_type": "code",
   "execution_count": 9,
   "metadata": {},
   "outputs": [],
   "source": [
    "inf_setup = associata.InferenceSetup()\n",
    "inf_setup.stimulate_vng_with_repr_values(\"plato\")\n",
    "\n",
    "agds.infere(inf_setup, 1)"
   ]
  },
  {
   "cell_type": "code",
   "execution_count": 6,
   "metadata": {},
   "outputs": [
    {
     "name": "stdout",
     "output_type": "stream",
     "text": [
      "Got message: b'{neighbours,[{vn,\"style\",\"bitter\"},{vn,\"ebc\",40},{vn,\"plato\",16},{vn,\"ibu\",50}]}'\n"
     ]
    },
    {
     "data": {
      "text/plain": [
       "[('vn', 'style', '\"bitter\"'),\n",
       " ('vn', 'ebc', '40'),\n",
       " ('vn', 'plato', '16'),\n",
       " ('vn', 'ibu', '50')]"
      ]
     },
     "execution_count": 6,
     "metadata": {},
     "output_type": "execute_result"
    }
   ],
   "source": [
    "agds.get_on_neighbours(2)"
   ]
  },
  {
   "cell_type": "code",
   "execution_count": 7,
   "metadata": {},
   "outputs": [
    {
     "name": "stdout",
     "output_type": "stream",
     "text": [
      "Got message: b'{neighbours,[{on,7}]}'\n"
     ]
    },
    {
     "data": {
      "text/plain": [
       "[('on', 7)]"
      ]
     },
     "execution_count": 7,
     "metadata": {},
     "output_type": "execute_result"
    }
   ],
   "source": [
    "agds.get_vn_neighbours('style', '\"imperial baltic porter\"')"
   ]
  },
  {
   "cell_type": "code",
   "execution_count": 14,
   "metadata": {},
   "outputs": [
    {
     "name": "stdout",
     "output_type": "stream",
     "text": [
      "Got message: b'\"structure_stopped\"'\n",
      "WARNING: AAS visualization stopping for structure failed\n"
     ]
    }
   ],
   "source": [
    "agds.stop()"
   ]
  },
  {
   "cell_type": "code",
   "execution_count": 15,
   "metadata": {},
   "outputs": [
    {
     "name": "stdout",
     "output_type": "stream",
     "text": [
      "Subprocess \"backend\" stopped successfully\n",
      "Subprocess \"vis\" stopped successfully\n"
     ]
    }
   ],
   "source": [
    "associata.stop()"
   ]
  }
 ],
 "metadata": {
  "kernelspec": {
   "display_name": "Python 3",
   "language": "python",
   "name": "python3"
  },
  "language_info": {
   "codemirror_mode": {
    "name": "ipython",
    "version": 3
   },
   "file_extension": ".py",
   "mimetype": "text/x-python",
   "name": "python",
   "nbconvert_exporter": "python",
   "pygments_lexer": "ipython3",
   "version": "3.11.7"
  }
 },
 "nbformat": 4,
 "nbformat_minor": 2
}
