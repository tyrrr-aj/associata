{
 "cells": [
  {
   "cell_type": "markdown",
   "metadata": {},
   "source": [
    "## Pyrlang_channel"
   ]
  },
  {
   "cell_type": "code",
   "execution_count": 1,
   "metadata": {},
   "outputs": [],
   "source": [
    "from pyrlang_channel import Channel\n",
    "import pyrlang_channel\n",
    "from term import Atom\n",
    "from asyncio import wait_for, TimeoutError"
   ]
  },
  {
   "cell_type": "code",
   "execution_count": 2,
   "metadata": {},
   "outputs": [],
   "source": [
    "conn = pyrlang_channel.connect('associata@Beast', 'aas@Beast', 'aas_vis@Beast', 'aas_cookie')"
   ]
  },
  {
   "cell_type": "code",
   "execution_count": 3,
   "metadata": {},
   "outputs": [],
   "source": [
    "ch = Channel(conn, 'ctrl')"
   ]
  },
  {
   "cell_type": "code",
   "execution_count": 4,
   "metadata": {},
   "outputs": [
    {
     "name": "stderr",
     "output_type": "stream",
     "text": [
      "Send to unknown global_name_server ignored\n",
      "rex unhandled info msg: (<1716216283.57.0 @ aas@Beast>, Atom('features_request'))\n"
     ]
    }
   ],
   "source": [
    "await ch.send_backend_async((Atom('hello'), Atom('world'), 5, 4.3, \"Joe?\", {Atom('a'): Atom('b')}, [1, 2, 3, 4, 5, 6, 7, 8, 9, 10], {Atom('a'): [1, 2, 3, 4, 5, 6, 7, 8, 9, 10]}, True, False))"
   ]
  },
  {
   "cell_type": "code",
   "execution_count": 6,
   "metadata": {},
   "outputs": [
    {
     "name": "stdout",
     "output_type": "stream",
     "text": [
      "Timeout\n"
     ]
    }
   ],
   "source": [
    "try:\n",
    "    await wait_for(ch.receive_vis_async(), timeout=3)\n",
    "except TimeoutError:\n",
    "    print('Timeout')"
   ]
  },
  {
   "cell_type": "markdown",
   "metadata": {},
   "source": [
    "## Direct"
   ]
  },
  {
   "cell_type": "code",
   "execution_count": 1,
   "metadata": {},
   "outputs": [],
   "source": [
    "from pyrlang import Node\n",
    "from term import Atom\n",
    "from pyrlang.process import Process"
   ]
  },
  {
   "cell_type": "code",
   "execution_count": 2,
   "metadata": {},
   "outputs": [],
   "source": [
    "node = Node(node_name=\"py@Beast\", cookie=\"aas_cookie\")"
   ]
  },
  {
   "cell_type": "code",
   "execution_count": 3,
   "metadata": {},
   "outputs": [],
   "source": [
    "class PassiveReceiver(Process):\n",
    "    def __init__(self):\n",
    "        super().__init__()\n",
    "        self.get_node().register_name(self, Atom('ctrl'))"
   ]
  },
  {
   "cell_type": "code",
   "execution_count": 4,
   "metadata": {},
   "outputs": [],
   "source": [
    "passive_receiver = PassiveReceiver()\n",
    "pid = node.register_new_process(passive_receiver)"
   ]
  },
  {
   "cell_type": "code",
   "execution_count": 5,
   "metadata": {},
   "outputs": [
    {
     "name": "stderr",
     "output_type": "stream",
     "text": [
      "rex unhandled info msg: (<1717410274.57.0 @ aas@Beast>, Atom('features_request'))\n",
      "Send to unknown global_name_server ignored\n"
     ]
    },
    {
     "name": "stderr",
     "output_type": "stream",
     "text": [
      "<1717413437.0.2 @ py@Beast>: Unhandled msg hellojoe\n"
     ]
    }
   ],
   "source": [
    "await node.send(sender=pid,\n",
    "                    receiver=(Atom('aas@Beast'), Atom('ctrl')),\n",
    "                    message=pid)"
   ]
  },
  {
   "cell_type": "code",
   "execution_count": 9,
   "metadata": {},
   "outputs": [
    {
     "name": "stderr",
     "output_type": "stream",
     "text": [
      "<1717413437.0.2 @ py@Beast>: Unhandled msg hellojoe\n",
      "<1717413437.0.2 @ py@Beast>: Unhandled msg hellojoe\n"
     ]
    },
    {
     "ename": "CancelledError",
     "evalue": "",
     "output_type": "error",
     "traceback": [
      "\u001b[1;31m---------------------------------------------------------------------------\u001b[0m",
      "\u001b[1;31mCancelledError\u001b[0m                            Traceback (most recent call last)",
      "Cell \u001b[1;32mIn[9], line 1\u001b[0m\n\u001b[1;32m----> 1\u001b[0m \u001b[38;5;28;01mawait\u001b[39;00m passive_receiver\u001b[38;5;241m.\u001b[39minbox_\u001b[38;5;241m.\u001b[39mget()\n",
      "File \u001b[1;32mc:\\Users\\adams\\Doktorat\\aasociata\\pyassoc\\.conda\\Lib\\asyncio\\queues.py:158\u001b[0m, in \u001b[0;36mQueue.get\u001b[1;34m(self)\u001b[0m\n\u001b[0;32m    156\u001b[0m \u001b[38;5;28mself\u001b[39m\u001b[38;5;241m.\u001b[39m_getters\u001b[38;5;241m.\u001b[39mappend(getter)\n\u001b[0;32m    157\u001b[0m \u001b[38;5;28;01mtry\u001b[39;00m:\n\u001b[1;32m--> 158\u001b[0m     \u001b[38;5;28;01mawait\u001b[39;00m getter\n\u001b[0;32m    159\u001b[0m \u001b[38;5;28;01mexcept\u001b[39;00m:\n\u001b[0;32m    160\u001b[0m     getter\u001b[38;5;241m.\u001b[39mcancel()  \u001b[38;5;66;03m# Just in case getter is not done yet.\u001b[39;00m\n",
      "\u001b[1;31mCancelledError\u001b[0m: "
     ]
    }
   ],
   "source": [
    "await passive_receiver.inbox_.get()"
   ]
  },
  {
   "cell_type": "code",
   "execution_count": 7,
   "metadata": {},
   "outputs": [
    {
     "name": "stderr",
     "output_type": "stream",
     "text": [
      "<1717413437.0.2 @ py@Beast>: Unhandled msg hellojoe\n",
      "<1717413437.0.2 @ py@Beast>: Unhandled msg hellojoe\n"
     ]
    },
    {
     "ename": "CancelledError",
     "evalue": "",
     "output_type": "error",
     "traceback": [
      "\u001b[1;31m---------------------------------------------------------------------------\u001b[0m",
      "\u001b[1;31mCancelledError\u001b[0m                            Traceback (most recent call last)",
      "Cell \u001b[1;32mIn[7], line 1\u001b[0m\n\u001b[1;32m----> 1\u001b[0m \u001b[38;5;28;01mawait\u001b[39;00m passive_receiver\u001b[38;5;241m.\u001b[39mreceive()\n",
      "File \u001b[1;32mc:\\users\\adams\\lib\\pyrlang\\pyrlang\\pyrlang\\process.py:137\u001b[0m, in \u001b[0;36mProcess.receive\u001b[1;34m(self, match, timeout, timeout_callback)\u001b[0m\n\u001b[0;32m    135\u001b[0m \u001b[38;5;28;01masync\u001b[39;00m \u001b[38;5;28;01mdef\u001b[39;00m \u001b[38;5;21mreceive\u001b[39m(\u001b[38;5;28mself\u001b[39m, match\u001b[38;5;241m=\u001b[39m\u001b[38;5;28;01mNone\u001b[39;00m, timeout\u001b[38;5;241m=\u001b[39m\u001b[38;5;28;01mNone\u001b[39;00m, timeout_callback\u001b[38;5;241m=\u001b[39m\u001b[38;5;28;01mNone\u001b[39;00m):\n\u001b[0;32m    136\u001b[0m     \u001b[38;5;28;01mif\u001b[39;00m \u001b[38;5;129;01mnot\u001b[39;00m timeout:\n\u001b[1;32m--> 137\u001b[0m         \u001b[38;5;28;01mreturn\u001b[39;00m \u001b[38;5;28;01mawait\u001b[39;00m \u001b[38;5;28mself\u001b[39m\u001b[38;5;241m.\u001b[39m_receive(match)\n\u001b[0;32m    139\u001b[0m     \u001b[38;5;66;03m# timeout functionality\u001b[39;00m\n\u001b[0;32m    140\u001b[0m     \u001b[38;5;28;01mtry\u001b[39;00m:\n",
      "File \u001b[1;32mc:\\users\\adams\\lib\\pyrlang\\pyrlang\\pyrlang\\process.py:156\u001b[0m, in \u001b[0;36mProcess._receive\u001b[1;34m(self, match)\u001b[0m\n\u001b[0;32m    154\u001b[0m     \u001b[38;5;28;01mraise\u001b[39;00m \u001b[38;5;167;01mValueError\u001b[39;00m(\u001b[38;5;124m\"\u001b[39m\u001b[38;5;124mtemporary inbox not empty\u001b[39m\u001b[38;5;124m\"\u001b[39m)\n\u001b[0;32m    155\u001b[0m \u001b[38;5;28;01mwhile\u001b[39;00m \u001b[38;5;28;01mTrue\u001b[39;00m:\n\u001b[1;32m--> 156\u001b[0m     msg \u001b[38;5;241m=\u001b[39m \u001b[38;5;28;01mawait\u001b[39;00m \u001b[38;5;28mself\u001b[39m\u001b[38;5;241m.\u001b[39minbox_\u001b[38;5;241m.\u001b[39mget()\n\u001b[0;32m    157\u001b[0m     LOG\u001b[38;5;241m.\u001b[39mdebug(\u001b[38;5;124m\"\u001b[39m\u001b[38;5;130;01m\\n\u001b[39;00m\u001b[38;5;130;01m\\n\u001b[39;00m\u001b[38;5;124mgot inbox \u001b[39m\u001b[38;5;132;01m{}\u001b[39;00m\u001b[38;5;124m, \u001b[39m\u001b[38;5;132;01m{}\u001b[39;00m\u001b[38;5;124m, \u001b[39m\u001b[38;5;132;01m{}\u001b[39;00m\u001b[38;5;124m\"\u001b[39m\u001b[38;5;241m.\u001b[39mformat(\u001b[38;5;28mself\u001b[39m, match, msg))\n\u001b[0;32m    158\u001b[0m     matched_pattern \u001b[38;5;241m=\u001b[39m match(msg)\n",
      "File \u001b[1;32mc:\\Users\\adams\\Doktorat\\aasociata\\pyassoc\\.conda\\Lib\\asyncio\\queues.py:158\u001b[0m, in \u001b[0;36mQueue.get\u001b[1;34m(self)\u001b[0m\n\u001b[0;32m    156\u001b[0m \u001b[38;5;28mself\u001b[39m\u001b[38;5;241m.\u001b[39m_getters\u001b[38;5;241m.\u001b[39mappend(getter)\n\u001b[0;32m    157\u001b[0m \u001b[38;5;28;01mtry\u001b[39;00m:\n\u001b[1;32m--> 158\u001b[0m     \u001b[38;5;28;01mawait\u001b[39;00m getter\n\u001b[0;32m    159\u001b[0m \u001b[38;5;28;01mexcept\u001b[39;00m:\n\u001b[0;32m    160\u001b[0m     getter\u001b[38;5;241m.\u001b[39mcancel()  \u001b[38;5;66;03m# Just in case getter is not done yet.\u001b[39;00m\n",
      "\u001b[1;31mCancelledError\u001b[0m: "
     ]
    }
   ],
   "source": [
    "await passive_receiver.receive()"
   ]
  },
  {
   "cell_type": "code",
   "execution_count": 3,
   "metadata": {},
   "outputs": [],
   "source": [
    "import numpy as np\n",
    "\n",
    "f = np.array([0.1])[0]"
   ]
  },
  {
   "cell_type": "code",
   "execution_count": 5,
   "metadata": {},
   "outputs": [],
   "source": [
    "fake_pid = node.register_new_process()\n",
    "await node.send(sender=fake_pid,\n",
    "                    receiver=(Atom('associata@Beast'), Atom('ctrl')),\n",
    "                    message=float(f))"
   ]
  },
  {
   "cell_type": "code",
   "execution_count": 3,
   "metadata": {},
   "outputs": [],
   "source": [
    "async def example_main(node):\n",
    "    fake_pid = node.register_new_process()\n",
    "\n",
    "    # To be able to send to Erlang shell by name first give it a registered\n",
    "    # name: `erlang:register(shell, self()).`\n",
    "    # To see an incoming message in shell: `flush().`\n",
    "    await node.send(sender=fake_pid,\n",
    "                    receiver=(Atom('associata@Beast'), Atom('ctrl')),\n",
    "                    message=Atom('hellofromjoepyter'))\n",
    "    print('Message sent to Erlang shell')"
   ]
  },
  {
   "cell_type": "code",
   "execution_count": 4,
   "metadata": {},
   "outputs": [
    {
     "data": {
      "text/plain": [
       "<Task pending name='Task-13' coro=<example_main() running at C:\\Users\\adams\\AppData\\Local\\Temp\\ipykernel_9440\\1347485222.py:1>>"
      ]
     },
     "execution_count": 4,
     "metadata": {},
     "output_type": "execute_result"
    },
    {
     "name": "stderr",
     "output_type": "stream",
     "text": [
      "rex unhandled info msg: (<1716203536.57.0 @ associata@Beast>, Atom('features_request'))\n",
      "Send to unknown global_name_server ignored\n"
     ]
    },
    {
     "name": "stdout",
     "output_type": "stream",
     "text": [
      "Message sent to Erlang shell\n"
     ]
    }
   ],
   "source": [
    "ev = node.get_loop()\n",
    "ev.create_task(example_main(node))\n",
    "# node.run()"
   ]
  },
  {
   "cell_type": "code",
   "execution_count": 6,
   "metadata": {},
   "outputs": [
    {
     "name": "stdout",
     "output_type": "stream",
     "text": [
      "Message sent to Erlang shell\n"
     ]
    }
   ],
   "source": [
    "ev = node.get_loop()\n",
    "await ev.create_task(example_main(node))"
   ]
  },
  {
   "cell_type": "code",
   "execution_count": 8,
   "metadata": {},
   "outputs": [],
   "source": [
    "from pyrlang.process import Process\n",
    "\n",
    "class Receiver(Process):\n",
    "    def __init__(self):\n",
    "        super().__init__()\n",
    "        self.get_node().register_name(self, Atom('associata'))\n",
    "        print('Receiver created')\n",
    "    \n",
    "    def handle_one_inbox_message(self, msg):\n",
    "        print('Received message', msg)"
   ]
  },
  {
   "cell_type": "code",
   "execution_count": 9,
   "metadata": {},
   "outputs": [
    {
     "name": "stdout",
     "output_type": "stream",
     "text": [
      "Receiver created\n"
     ]
    }
   ],
   "source": [
    "proc = Receiver()"
   ]
  },
  {
   "cell_type": "code",
   "execution_count": 10,
   "metadata": {},
   "outputs": [],
   "source": [
    "await node.send(sender=proc.pid_,\n",
    "                    receiver=(Atom('aasociata@Beast'), Atom('ctrl')),\n",
    "                    message=f)"
   ]
  },
  {
   "cell_type": "code",
   "execution_count": 6,
   "metadata": {},
   "outputs": [
    {
     "name": "stdout",
     "output_type": "stream",
     "text": [
      "Received message localmsg\n"
     ]
    }
   ],
   "source": [
    "fake_pid = node.register_new_process()\n",
    "await node.send(sender=fake_pid,\n",
    "                    receiver=(Atom('py@Beast'), Atom('associata')),\n",
    "                    message=Atom('localmsg'))"
   ]
  },
  {
   "cell_type": "code",
   "execution_count": 7,
   "metadata": {},
   "outputs": [],
   "source": [
    "fake_pid = node.register_new_process()\n",
    "await node.send(sender=fake_pid,\n",
    "                    receiver=(Atom('associata@Beast'), Atom('ctrl')),\n",
    "                    message=Atom('joe'))"
   ]
  },
  {
   "cell_type": "code",
   "execution_count": 12,
   "metadata": {},
   "outputs": [
    {
     "ename": "RuntimeError",
     "evalue": "asyncio.run() cannot be called from a running event loop",
     "output_type": "error",
     "traceback": [
      "\u001b[1;31m---------------------------------------------------------------------------\u001b[0m",
      "\u001b[1;31mRuntimeError\u001b[0m                              Traceback (most recent call last)",
      "Cell \u001b[1;32mIn[12], line 2\u001b[0m\n\u001b[0;32m      1\u001b[0m \u001b[38;5;28;01mimport\u001b[39;00m \u001b[38;5;21;01masyncio\u001b[39;00m\n\u001b[1;32m----> 2\u001b[0m \u001b[43masyncio\u001b[49m\u001b[38;5;241;43m.\u001b[39;49m\u001b[43mrun\u001b[49m\u001b[43m(\u001b[49m\u001b[43mexample_main\u001b[49m\u001b[43m(\u001b[49m\u001b[43mnode\u001b[49m\u001b[43m)\u001b[49m\u001b[43m)\u001b[49m\n",
      "File \u001b[1;32mc:\\Users\\adams\\Doktorat\\aasociata\\pyassoc\\.conda\\Lib\\asyncio\\runners.py:186\u001b[0m, in \u001b[0;36mrun\u001b[1;34m(main, debug)\u001b[0m\n\u001b[0;32m    161\u001b[0m \u001b[38;5;250m\u001b[39m\u001b[38;5;124;03m\"\"\"Execute the coroutine and return the result.\u001b[39;00m\n\u001b[0;32m    162\u001b[0m \n\u001b[0;32m    163\u001b[0m \u001b[38;5;124;03mThis function runs the passed coroutine, taking care of\u001b[39;00m\n\u001b[1;32m   (...)\u001b[0m\n\u001b[0;32m    182\u001b[0m \u001b[38;5;124;03m    asyncio.run(main())\u001b[39;00m\n\u001b[0;32m    183\u001b[0m \u001b[38;5;124;03m\"\"\"\u001b[39;00m\n\u001b[0;32m    184\u001b[0m \u001b[38;5;28;01mif\u001b[39;00m events\u001b[38;5;241m.\u001b[39m_get_running_loop() \u001b[38;5;129;01mis\u001b[39;00m \u001b[38;5;129;01mnot\u001b[39;00m \u001b[38;5;28;01mNone\u001b[39;00m:\n\u001b[0;32m    185\u001b[0m     \u001b[38;5;66;03m# fail fast with short traceback\u001b[39;00m\n\u001b[1;32m--> 186\u001b[0m     \u001b[38;5;28;01mraise\u001b[39;00m \u001b[38;5;167;01mRuntimeError\u001b[39;00m(\n\u001b[0;32m    187\u001b[0m         \u001b[38;5;124m\"\u001b[39m\u001b[38;5;124masyncio.run() cannot be called from a running event loop\u001b[39m\u001b[38;5;124m\"\u001b[39m)\n\u001b[0;32m    189\u001b[0m \u001b[38;5;28;01mwith\u001b[39;00m Runner(debug\u001b[38;5;241m=\u001b[39mdebug) \u001b[38;5;28;01mas\u001b[39;00m runner:\n\u001b[0;32m    190\u001b[0m     \u001b[38;5;28;01mreturn\u001b[39;00m runner\u001b[38;5;241m.\u001b[39mrun(main)\n",
      "\u001b[1;31mRuntimeError\u001b[0m: asyncio.run() cannot be called from a running event loop"
     ]
    }
   ],
   "source": [
    "import asyncio\n",
    "asyncio.run(example_main(node))"
   ]
  },
  {
   "cell_type": "markdown",
   "metadata": {},
   "source": [
    "## Associata"
   ]
  },
  {
   "cell_type": "code",
   "execution_count": 1,
   "metadata": {},
   "outputs": [],
   "source": [
    "import associata"
   ]
  },
  {
   "cell_type": "code",
   "execution_count": 2,
   "metadata": {},
   "outputs": [
    {
     "name": "stderr",
     "output_type": "stream",
     "text": [
      "Send to unknown global_name_server ignored\n",
      "rex unhandled info msg: (<1717410272.57.0 @ aas@Beast>, Atom('features_request'))\n"
     ]
    }
   ],
   "source": [
    "await associata.init()"
   ]
  },
  {
   "cell_type": "code",
   "execution_count": 3,
   "metadata": {},
   "outputs": [],
   "source": [
    "agds = await associata.create_agds()"
   ]
  },
  {
   "cell_type": "code",
   "execution_count": 4,
   "metadata": {},
   "outputs": [],
   "source": [
    "await agds.add_numerical_vng('plato', 0.5)\n",
    "await agds.add_numerical_vng('ibu', 0.5)\n",
    "await agds.add_numerical_vng('ebc', 0.5)"
   ]
  },
  {
   "cell_type": "code",
   "execution_count": 5,
   "metadata": {},
   "outputs": [
    {
     "name": "stdout",
     "output_type": "stream",
     "text": [
      "Adding observation: (Atom('add_observation'), {'plato': 12, 'ibu': 25, 'ebc': 30})\n",
      "Adding observation: (Atom('add_observation'), {'plato': 14, 'ibu': 35, 'ebc': 50})\n",
      "Adding observation: (Atom('add_observation'), {'plato': 12, 'ibu': 45, 'ebc': 50})\n"
     ]
    }
   ],
   "source": [
    "await agds.add_observation({'plato': 12, 'ibu': 25, 'ebc': 30})\n",
    "await agds.add_observation({'plato': 14, 'ibu': 35, 'ebc': 50})\n",
    "await agds.add_observation({'plato': 12, 'ibu': 45, 'ebc': 50})"
   ]
  },
  {
   "cell_type": "code",
   "execution_count": 6,
   "metadata": {},
   "outputs": [],
   "source": [
    "await agds.reset_excitation()"
   ]
  },
  {
   "cell_type": "code",
   "execution_count": 6,
   "metadata": {},
   "outputs": [],
   "source": [
    "inf = associata.InferenceSetup()\n",
    "inf.stimulate_vn('ibu', 12)\n",
    "inf.stimulate_vn('ebc', 40)"
   ]
  },
  {
   "cell_type": "code",
   "execution_count": 7,
   "metadata": {},
   "outputs": [],
   "source": [
    "await agds.infere(inf, 2)"
   ]
  },
  {
   "cell_type": "code",
   "execution_count": 8,
   "metadata": {},
   "outputs": [
    {
     "name": "stderr",
     "output_type": "stream",
     "text": [
      "NodeException: Don't know how to send to None\n",
      "Task exception was never retrieved\n",
      "future: <Task finished name='Task-39' coro=<BaseDistProtocol.on_passthrough_message() done, defined at c:\\users\\adams\\lib\\pyrlang\\pyrlang\\pyrlang\\dist_proto\\base_dist_protocol.py:224> exception=NodeException(\"Don't know how to send to None\")>\n",
      "Traceback (most recent call last):\n",
      "  File \"c:\\users\\adams\\lib\\pyrlang\\pyrlang\\pyrlang\\dist_proto\\base_dist_protocol.py\", line 240, in on_passthrough_message\n",
      "    return await n.send(sender=control_term[1],\n",
      "           ^^^^^^^^^^^^^^^^^^^^^^^^^^^^^^^^^^^^\n",
      "  File \"c:\\users\\adams\\lib\\pyrlang\\pyrlang\\pyrlang\\node.py\", line 253, in send\n",
      "    raise NodeException(\"Don't know how to send to %s\" % receiver)\n",
      "pyrlang.errors.NodeException: Don't know how to send to None\n"
     ]
    }
   ],
   "source": [
    "await agds.get_excitations_for_vng('ibu')"
   ]
  },
  {
   "cell_type": "code",
   "execution_count": 10,
   "metadata": {},
   "outputs": [
    {
     "name": "stderr",
     "output_type": "stream",
     "text": [
      "NodeException: Don't know how to send to None\n",
      "Task exception was never retrieved\n",
      "future: <Task finished name='Task-40' coro=<BaseDistProtocol.on_passthrough_message() done, defined at c:\\users\\adams\\lib\\pyrlang\\pyrlang\\pyrlang\\dist_proto\\base_dist_protocol.py:224> exception=NodeException(\"Don't know how to send to None\")>\n",
      "Traceback (most recent call last):\n",
      "  File \"c:\\users\\adams\\lib\\pyrlang\\pyrlang\\pyrlang\\dist_proto\\base_dist_protocol.py\", line 240, in on_passthrough_message\n",
      "    return await n.send(sender=control_term[1],\n",
      "           ^^^^^^^^^^^^^^^^^^^^^^^^^^^^^^^^^^^^\n",
      "  File \"c:\\users\\adams\\lib\\pyrlang\\pyrlang\\pyrlang\\node.py\", line 253, in send\n",
      "    raise NodeException(\"Don't know how to send to %s\" % receiver)\n",
      "pyrlang.errors.NodeException: Don't know how to send to None\n"
     ]
    }
   ],
   "source": [
    "await agds.get_excitations_for_ong()"
   ]
  },
  {
   "cell_type": "code",
   "execution_count": 7,
   "metadata": {},
   "outputs": [
    {
     "name": "stderr",
     "output_type": "stream",
     "text": [
      "Task exception was never retrieved\n",
      "future: <Task finished name='Task-28' coro=<Process.handle_signals() done, defined at c:\\users\\adams\\lib\\pyrlang\\pyrlang\\pyrlang\\process.py:178> exception=KeyError(<1717410268.0.3 @ associata@Beast>)>\n",
      "Traceback (most recent call last):\n",
      "  File \"c:\\users\\adams\\lib\\pyrlang\\pyrlang\\pyrlang\\process.py\", line 184, in handle_signals\n",
      "    self._on_exit_signal(reason)\n",
      "  File \"c:\\users\\adams\\lib\\pyrlang\\pyrlang\\pyrlang\\process.py\", line 248, in _on_exit_signal\n",
      "    n.on_exit_process(self.pid_, reason)\n",
      "  File \"c:\\users\\adams\\lib\\pyrlang\\pyrlang\\pyrlang\\node.py\", line 146, in on_exit_process\n",
      "    del self.processes_[exiting_pid]\n",
      "        ~~~~~~~~~~~~~~~^^^^^^^^^^^^^\n",
      "KeyError: <1717410268.0.3 @ associata@Beast>\n"
     ]
    },
    {
     "name": "stdout",
     "output_type": "stream",
     "text": [
      "WARNING: AAS structure stopping failed\n",
      "WARNING: AAS visualization stopping for structure failed\n"
     ]
    }
   ],
   "source": [
    "await agds.stop()"
   ]
  },
  {
   "cell_type": "code",
   "execution_count": 3,
   "metadata": {},
   "outputs": [
    {
     "name": "stdout",
     "output_type": "stream",
     "text": [
      "WARNING: Subprocess \"backend\" did not stop within timeout (3s)\n"
     ]
    },
    {
     "name": "stderr",
     "output_type": "stream",
     "text": [
      "Error: Transport is None in _send_packet4 [internal error] (state conn)\n",
      "DistributionError: Transport is None in _send_packet4 [internal error]\n",
      "Task exception was never retrieved\n",
      "future: <Task finished name='Task-22' coro=<BaseDistProtocol.listen_on_inbox() done, defined at c:\\users\\adams\\lib\\pyrlang\\pyrlang\\pyrlang\\dist_proto\\base_dist_protocol.py:300> exception=DistributionError('Transport is None in _send_packet4 [internal error]')>\n",
      "Traceback (most recent call last):\n",
      "  File \"c:\\users\\adams\\lib\\pyrlang\\pyrlang\\pyrlang\\dist_proto\\base_dist_protocol.py\", line 303, in listen_on_inbox\n",
      "    self._handle_one_inbox_message(msg)\n",
      "  File \"c:\\users\\adams\\lib\\pyrlang\\pyrlang\\pyrlang\\dist_proto\\base_dist_protocol.py\", line 338, in _handle_one_inbox_message\n",
      "    return self._control_message(ctrl, msg)\n",
      "           ^^^^^^^^^^^^^^^^^^^^^^^^^^^^^^^^\n",
      "  File \"c:\\users\\adams\\lib\\pyrlang\\pyrlang\\pyrlang\\dist_proto\\base_dist_protocol.py\", line 409, in _control_message\n",
      "    self._send_packet4(packet)\n",
      "  File \"c:\\users\\adams\\lib\\pyrlang\\pyrlang\\pyrlang\\dist_proto\\base_dist_protocol.py\", line 221, in _send_packet4\n",
      "    return self.raise_protocol_error(\"Transport is None in _send_packet4 [internal error]\")\n",
      "           ^^^^^^^^^^^^^^^^^^^^^^^^^^^^^^^^^^^^^^^^^^^^^^^^^^^^^^^^^^^^^^^^^^^^^^^^^^^^^^^^\n",
      "  File \"c:\\users\\adams\\lib\\pyrlang\\pyrlang\\pyrlang\\dist_proto\\base_dist_protocol.py\", line 419, in raise_protocol_error\n",
      "    raise DistributionError(msg=msg)\n",
      "pyrlang.errors.DistributionError: Transport is None in _send_packet4 [internal error]\n",
      "Error: Transport is None in _send_packet4 [internal error] (state conn)\n",
      "DistributionError: Transport is None in _send_packet4 [internal error]\n",
      "Task exception was never retrieved\n",
      "future: <Task finished name='Task-18' coro=<BaseDistProtocol.listen_on_inbox() done, defined at c:\\users\\adams\\lib\\pyrlang\\pyrlang\\pyrlang\\dist_proto\\base_dist_protocol.py:300> exception=DistributionError('Transport is None in _send_packet4 [internal error]')>\n",
      "Traceback (most recent call last):\n",
      "  File \"c:\\users\\adams\\lib\\pyrlang\\pyrlang\\pyrlang\\dist_proto\\base_dist_protocol.py\", line 303, in listen_on_inbox\n",
      "    self._handle_one_inbox_message(msg)\n",
      "  File \"c:\\users\\adams\\lib\\pyrlang\\pyrlang\\pyrlang\\dist_proto\\base_dist_protocol.py\", line 338, in _handle_one_inbox_message\n",
      "    return self._control_message(ctrl, msg)\n",
      "           ^^^^^^^^^^^^^^^^^^^^^^^^^^^^^^^^\n",
      "  File \"c:\\users\\adams\\lib\\pyrlang\\pyrlang\\pyrlang\\dist_proto\\base_dist_protocol.py\", line 409, in _control_message\n",
      "    self._send_packet4(packet)\n",
      "  File \"c:\\users\\adams\\lib\\pyrlang\\pyrlang\\pyrlang\\dist_proto\\base_dist_protocol.py\", line 221, in _send_packet4\n",
      "    return self.raise_protocol_error(\"Transport is None in _send_packet4 [internal error]\")\n",
      "           ^^^^^^^^^^^^^^^^^^^^^^^^^^^^^^^^^^^^^^^^^^^^^^^^^^^^^^^^^^^^^^^^^^^^^^^^^^^^^^^^\n",
      "  File \"c:\\users\\adams\\lib\\pyrlang\\pyrlang\\pyrlang\\dist_proto\\base_dist_protocol.py\", line 419, in raise_protocol_error\n",
      "    raise DistributionError(msg=msg)\n",
      "pyrlang.errors.DistributionError: Transport is None in _send_packet4 [internal error]\n",
      "Task exception was never retrieved\n",
      "future: <Task finished name='Task-12' coro=<Process.handle_signals() done, defined at c:\\users\\adams\\lib\\pyrlang\\pyrlang\\pyrlang\\process.py:178> exception=AttributeError('there is no node associata@Beast registered')>\n",
      "Traceback (most recent call last):\n",
      "  File \"c:\\users\\adams\\lib\\pyrlang\\pyrlang\\pyrlang\\process.py\", line 184, in handle_signals\n",
      "    self._on_exit_signal(reason)\n",
      "  File \"c:\\users\\adams\\lib\\pyrlang\\pyrlang\\pyrlang\\process.py\", line 244, in _on_exit_signal\n",
      "    self._trigger_monitors(reason)\n",
      "  File \"c:\\users\\adams\\lib\\pyrlang\\pyrlang\\pyrlang\\process.py\", line 261, in _trigger_monitors\n",
      "    node = self.get_node()\n",
      "           ^^^^^^^^^^^^^^^\n",
      "  File \"c:\\users\\adams\\lib\\pyrlang\\pyrlang\\pyrlang\\process.py\", line 255, in get_node\n",
      "    return self.node_db.get(self.node_name_)\n",
      "           ^^^^^^^^^^^^^^^^^^^^^^^^^^^^^^^^^\n",
      "  File \"c:\\users\\adams\\lib\\pyrlang\\pyrlang\\pyrlang\\node_db.py\", line 45, in get\n",
      "    raise AttributeError(msg)\n",
      "AttributeError: there is no node associata@Beast registered\n",
      "Task exception was never retrieved\n",
      "future: <Task finished name='Task-7' coro=<Process.handle_signals() done, defined at c:\\users\\adams\\lib\\pyrlang\\pyrlang\\pyrlang\\process.py:178> exception=AttributeError('there is no node associata@Beast registered')>\n",
      "Traceback (most recent call last):\n",
      "  File \"c:\\users\\adams\\lib\\pyrlang\\pyrlang\\pyrlang\\process.py\", line 184, in handle_signals\n",
      "    self._on_exit_signal(reason)\n",
      "  File \"c:\\users\\adams\\lib\\pyrlang\\pyrlang\\pyrlang\\process.py\", line 244, in _on_exit_signal\n",
      "    self._trigger_monitors(reason)\n",
      "  File \"c:\\users\\adams\\lib\\pyrlang\\pyrlang\\pyrlang\\process.py\", line 261, in _trigger_monitors\n",
      "    node = self.get_node()\n",
      "           ^^^^^^^^^^^^^^^\n",
      "  File \"c:\\users\\adams\\lib\\pyrlang\\pyrlang\\pyrlang\\process.py\", line 255, in get_node\n",
      "    return self.node_db.get(self.node_name_)\n",
      "           ^^^^^^^^^^^^^^^^^^^^^^^^^^^^^^^^^\n",
      "  File \"c:\\users\\adams\\lib\\pyrlang\\pyrlang\\pyrlang\\node_db.py\", line 45, in get\n",
      "    raise AttributeError(msg)\n",
      "AttributeError: there is no node associata@Beast registered\n",
      "Task exception was never retrieved\n",
      "future: <Task finished name='Task-9' coro=<Process.handle_signals() done, defined at c:\\users\\adams\\lib\\pyrlang\\pyrlang\\pyrlang\\process.py:178> exception=AttributeError('there is no node associata@Beast registered')>\n",
      "Traceback (most recent call last):\n",
      "  File \"c:\\users\\adams\\lib\\pyrlang\\pyrlang\\pyrlang\\process.py\", line 184, in handle_signals\n",
      "    self._on_exit_signal(reason)\n",
      "  File \"c:\\users\\adams\\lib\\pyrlang\\pyrlang\\pyrlang\\process.py\", line 244, in _on_exit_signal\n",
      "    self._trigger_monitors(reason)\n",
      "  File \"c:\\users\\adams\\lib\\pyrlang\\pyrlang\\pyrlang\\process.py\", line 261, in _trigger_monitors\n",
      "    node = self.get_node()\n",
      "           ^^^^^^^^^^^^^^^\n",
      "  File \"c:\\users\\adams\\lib\\pyrlang\\pyrlang\\pyrlang\\process.py\", line 255, in get_node\n",
      "    return self.node_db.get(self.node_name_)\n",
      "           ^^^^^^^^^^^^^^^^^^^^^^^^^^^^^^^^^\n",
      "  File \"c:\\users\\adams\\lib\\pyrlang\\pyrlang\\pyrlang\\node_db.py\", line 45, in get\n",
      "    raise AttributeError(msg)\n",
      "AttributeError: there is no node associata@Beast registered\n",
      "Exception in callback _ProactorBasePipeTransport._call_connection_lost(None)\n",
      "handle: <Handle _ProactorBasePipeTransport._call_connection_lost(None)>\n",
      "Traceback (most recent call last):\n",
      "  File \"c:\\Users\\adams\\Doktorat\\aasociata\\pyassoc\\.conda\\Lib\\asyncio\\events.py\", line 80, in _run\n",
      "    self._context.run(self._callback, *self._args)\n",
      "  File \"c:\\Users\\adams\\Doktorat\\aasociata\\pyassoc\\.conda\\Lib\\asyncio\\proactor_events.py\", line 158, in _call_connection_lost\n",
      "    self._protocol.connection_lost(exc)\n",
      "  File \"c:\\users\\adams\\lib\\pyrlang\\pyrlang\\pyrlang\\dist_proto\\server.py\", line 43, in connection_lost\n",
      "    super().connection_lost(exc)\n",
      "  File \"c:\\users\\adams\\lib\\pyrlang\\pyrlang\\pyrlang\\dist_proto\\base_dist_protocol.py\", line 199, in connection_lost\n",
      "    n = self.node_db.get(self.node_name_)\n",
      "        ^^^^^^^^^^^^^^^^^^^^^^^^^^^^^^^^^\n",
      "  File \"c:\\users\\adams\\lib\\pyrlang\\pyrlang\\pyrlang\\node_db.py\", line 45, in get\n",
      "    raise AttributeError(msg)\n",
      "AttributeError: there is no node associata@Beast registered\n",
      "Exception in callback _ProactorBasePipeTransport._call_connection_lost(None)\n",
      "handle: <Handle _ProactorBasePipeTransport._call_connection_lost(None)>\n",
      "Traceback (most recent call last):\n",
      "  File \"c:\\Users\\adams\\Doktorat\\aasociata\\pyassoc\\.conda\\Lib\\asyncio\\events.py\", line 80, in _run\n",
      "    self._context.run(self._callback, *self._args)\n",
      "  File \"c:\\Users\\adams\\Doktorat\\aasociata\\pyassoc\\.conda\\Lib\\asyncio\\proactor_events.py\", line 158, in _call_connection_lost\n",
      "    self._protocol.connection_lost(exc)\n",
      "  File \"c:\\users\\adams\\lib\\pyrlang\\pyrlang\\pyrlang\\dist_proto\\server.py\", line 43, in connection_lost\n",
      "    super().connection_lost(exc)\n",
      "  File \"c:\\users\\adams\\lib\\pyrlang\\pyrlang\\pyrlang\\dist_proto\\base_dist_protocol.py\", line 199, in connection_lost\n",
      "    n = self.node_db.get(self.node_name_)\n",
      "        ^^^^^^^^^^^^^^^^^^^^^^^^^^^^^^^^^\n",
      "  File \"c:\\users\\adams\\lib\\pyrlang\\pyrlang\\pyrlang\\node_db.py\", line 45, in get\n",
      "    raise AttributeError(msg)\n",
      "AttributeError: there is no node associata@Beast registered\n"
     ]
    },
    {
     "name": "stdout",
     "output_type": "stream",
     "text": [
      "WARNING: Subprocess \"vis\" did not stop within timeout (3s)\n"
     ]
    }
   ],
   "source": [
    "await associata.stop()"
   ]
  }
 ],
 "metadata": {
  "kernelspec": {
   "display_name": "Python 3",
   "language": "python",
   "name": "python3"
  },
  "language_info": {
   "codemirror_mode": {
    "name": "ipython",
    "version": 3
   },
   "file_extension": ".py",
   "mimetype": "text/x-python",
   "name": "python",
   "nbconvert_exporter": "python",
   "pygments_lexer": "ipython3",
   "version": "3.11.7"
  }
 },
 "nbformat": 4,
 "nbformat_minor": 2
}
