{
 "cells": [
  {
   "cell_type": "code",
   "execution_count": 3,
   "metadata": {},
   "outputs": [],
   "source": [
    "import networkx as nx"
   ]
  },
  {
   "cell_type": "code",
   "execution_count": 7,
   "metadata": {},
   "outputs": [],
   "source": [
    "G = nx.Graph(mode='dynamic')\n",
    "\n",
    "G.add_node('0.1.0', start=1, excitation=[(0.0, 0, 3)], node_group='vn')\n",
    "G.add_node('0.2.0', start=2, excitation=[(0.0, 0, 3)], node_group='vn')\n",
    "G.add_node('0.3.0', start=3, excitation=[(0.0, 0, 3)], node_group='vn')\n",
    "G.add_node('0.4.0', start=4, excitation=[(0.0, 0, 3)], node_group='vn')\n",
    "G.add_node('0.5.0', start=5, excitation=[(0.0, 0, 3)], node_group='on')\n",
    "G.add_node('0.6.0', start=6, excitation=[(0.0, 0, 3)], node_group='on')"
   ]
  },
  {
   "cell_type": "code",
   "execution_count": 35,
   "metadata": {},
   "outputs": [],
   "source": [
    "G = nx.Graph(mode='dynamic')\n",
    "\n",
    "G.add_node('0.1.0', start=1, node_group='vn')\n",
    "G.add_node('0.2.0', start=2, node_group='vn')\n",
    "G.add_node('0.3.0', start=3, node_group='vn')\n",
    "G.add_node('0.4.0', start=4, node_group='vn')\n",
    "G.add_node('0.5.0', start=5, node_group='on')\n",
    "G.add_node('0.6.0', start=6, node_group='on')"
   ]
  },
  {
   "cell_type": "code",
   "execution_count": 36,
   "metadata": {},
   "outputs": [],
   "source": [
    "G.add_edge('0.1.0', '0.2.0')\n",
    "G.add_edge('0.1.0', '0.5.0')\n",
    "G.add_edge('0.1.0', '0.6.0')\n",
    "G.add_edge('0.2.0', '0.5.0')\n",
    "G.add_edge('0.2.0', '0.6.0')\n",
    "G.add_edge('0.3.0', '0.4.0')\n",
    "G.add_edge('0.4.0', '0.5.0')\n",
    "G.add_edge('0.4.0', '0.6.0')\n",
    "G.add_edge('0.5.0', '0.6.0')"
   ]
  },
  {
   "cell_type": "code",
   "execution_count": 37,
   "metadata": {},
   "outputs": [],
   "source": [
    "def add_timeframed_attribute_value(graph, node_id, attribute, value, start, end):\n",
    "    current_values = graph.nodes[node_id][attribute] if attribute in graph.nodes[node_id] else []\n",
    "    nx.set_node_attributes(graph, {node_id: current_values + [(value, start, end)]}, attribute)"
   ]
  },
  {
   "cell_type": "code",
   "execution_count": 19,
   "metadata": {},
   "outputs": [],
   "source": [
    "for node_id in G.nodes:\n",
    "    node = G.nodes[node_id]\n",
    "    current_excitation = node['excitation'][-1]\n",
    "    node['excitation'][-1] = (*current_excitation, 3)\n",
    "    # node['excitation'] += [(0.5, 3)]\n",
    "    # node"
   ]
  },
  {
   "cell_type": "code",
   "execution_count": 38,
   "metadata": {},
   "outputs": [],
   "source": [
    "for node_id in G.nodes:\n",
    "    add_timeframed_attribute_value(G, node_id, 'excitation', 0.0, 0, 3)"
   ]
  },
  {
   "cell_type": "code",
   "execution_count": 39,
   "metadata": {},
   "outputs": [
    {
     "data": {
      "text/plain": [
       "[[(0.0, 0)], [(0.0, 0)], [(0.0, 0)], [(0.0, 0)], [(0.0, 0)], [(0.0, 0)]]"
      ]
     },
     "execution_count": 39,
     "metadata": {},
     "output_type": "execute_result"
    }
   ],
   "source": [
    "[G.nodes[node_id]['excitation'] for node_id in G.nodes]"
   ]
  },
  {
   "cell_type": "code",
   "execution_count": 5,
   "metadata": {},
   "outputs": [
    {
     "data": {
      "text/plain": [
       "{'end': 123}"
      ]
     },
     "execution_count": 5,
     "metadata": {},
     "output_type": "execute_result"
    }
   ],
   "source": [
    "G.edges['0.1.0', '0.5.0']['end'] = 123\n",
    "G.edges['0.1.0', '0.5.0']"
   ]
  },
  {
   "cell_type": "code",
   "execution_count": 25,
   "metadata": {},
   "outputs": [
    {
     "data": {
      "text/plain": [
       "{'start': 1, 'node_group': 'vn', 'excitation': [(0.5, 1, 2), (0.7, 3, 4)]}"
      ]
     },
     "execution_count": 25,
     "metadata": {},
     "output_type": "execute_result"
    }
   ],
   "source": [
    "nx.set_node_attributes(G, {'0.1.0': [(0.5, 1, 2), (0.7, 3, 4)]}, 'excitation')\n",
    "G.nodes['0.1.0']"
   ]
  },
  {
   "cell_type": "code",
   "execution_count": 4,
   "metadata": {},
   "outputs": [
    {
     "data": {
      "text/plain": [
       "{'start': 1, 'node_group': 'vn', 'excitation': [(0.7, 4, 5)]}"
      ]
     },
     "execution_count": 4,
     "metadata": {},
     "output_type": "execute_result"
    }
   ],
   "source": [
    "add_timeframed_attribute_value(G, '0.1.0', 'excitation', 0.7, 4, 5)\n",
    "G.nodes['0.1.0']"
   ]
  },
  {
   "cell_type": "code",
   "execution_count": 40,
   "metadata": {},
   "outputs": [
    {
     "ename": "ValueError",
     "evalue": "not enough values to unpack (expected 3, got 2)",
     "output_type": "error",
     "traceback": [
      "\u001b[1;31m---------------------------------------------------------------------------\u001b[0m",
      "\u001b[1;31mValueError\u001b[0m                                Traceback (most recent call last)",
      "\u001b[1;32mc:\\Users\\adams\\Doktorat\\AAS - Erlang\\asvis\\src\\experiments.ipynb Cell 12\u001b[0m line \u001b[0;36m1\n\u001b[1;32m----> <a href='vscode-notebook-cell:/c%3A/Users/adams/Doktorat/AAS%20-%20Erlang/asvis/src/experiments.ipynb#X10sZmlsZQ%3D%3D?line=0'>1</a>\u001b[0m nx\u001b[39m.\u001b[39;49mwrite_gexf(G, \u001b[39m'\u001b[39;49m\u001b[39mgraph.gexf\u001b[39;49m\u001b[39m'\u001b[39;49m)\n",
      "File \u001b[1;32m<class 'networkx.utils.decorators.argmap'> compilation 5:5\u001b[0m, in \u001b[0;36margmap_write_gexf_1\u001b[1;34m(G, path, encoding, prettyprint, version)\u001b[0m\n\u001b[0;32m      3\u001b[0m \u001b[39mimport\u001b[39;00m \u001b[39mgzip\u001b[39;00m\n\u001b[0;32m      4\u001b[0m \u001b[39mimport\u001b[39;00m \u001b[39minspect\u001b[39;00m\n\u001b[1;32m----> 5\u001b[0m \u001b[39mimport\u001b[39;00m \u001b[39mitertools\u001b[39;00m\n\u001b[0;32m      6\u001b[0m \u001b[39mimport\u001b[39;00m \u001b[39mre\u001b[39;00m\n\u001b[0;32m      7\u001b[0m \u001b[39mimport\u001b[39;00m \u001b[39mwarnings\u001b[39;00m\n",
      "File \u001b[1;32m~\\AppData\\Local\\Packages\\PythonSoftwareFoundation.Python.3.10_qbz5n2kfra8p0\\LocalCache\\local-packages\\Python310\\site-packages\\networkx\\readwrite\\gexf.py:86\u001b[0m, in \u001b[0;36mwrite_gexf\u001b[1;34m(G, path, encoding, prettyprint, version)\u001b[0m\n\u001b[0;32m     37\u001b[0m \u001b[39m\u001b[39m\u001b[39m\"\"\"Write G in GEXF format to path.\u001b[39;00m\n\u001b[0;32m     38\u001b[0m \n\u001b[0;32m     39\u001b[0m \u001b[39m\"GEXF (Graph Exchange XML Format) is a language for describing\u001b[39;00m\n\u001b[1;32m   (...)\u001b[0m\n\u001b[0;32m     83\u001b[0m \u001b[39m.. [2] GEXF schema, http://gexf.net/schema.html\u001b[39;00m\n\u001b[0;32m     84\u001b[0m \u001b[39m\"\"\"\u001b[39;00m\n\u001b[0;32m     85\u001b[0m writer \u001b[39m=\u001b[39m GEXFWriter(encoding\u001b[39m=\u001b[39mencoding, prettyprint\u001b[39m=\u001b[39mprettyprint, version\u001b[39m=\u001b[39mversion)\n\u001b[1;32m---> 86\u001b[0m writer\u001b[39m.\u001b[39;49madd_graph(G)\n\u001b[0;32m     87\u001b[0m writer\u001b[39m.\u001b[39mwrite(path)\n",
      "File \u001b[1;32m~\\AppData\\Local\\Packages\\PythonSoftwareFoundation.Python.3.10_qbz5n2kfra8p0\\LocalCache\\local-packages\\Python310\\site-packages\\networkx\\readwrite\\gexf.py:345\u001b[0m, in \u001b[0;36mGEXFWriter.add_graph\u001b[1;34m(self, G)\u001b[0m\n\u001b[0;32m    343\u001b[0m graph_element \u001b[39m=\u001b[39m Element(\u001b[39m\"\u001b[39m\u001b[39mgraph\u001b[39m\u001b[39m\"\u001b[39m, defaultedgetype\u001b[39m=\u001b[39mdefault, mode\u001b[39m=\u001b[39mmode, name\u001b[39m=\u001b[39mname)\n\u001b[0;32m    344\u001b[0m \u001b[39mself\u001b[39m\u001b[39m.\u001b[39mgraph_element \u001b[39m=\u001b[39m graph_element\n\u001b[1;32m--> 345\u001b[0m \u001b[39mself\u001b[39;49m\u001b[39m.\u001b[39;49madd_nodes(G, graph_element)\n\u001b[0;32m    346\u001b[0m \u001b[39mself\u001b[39m\u001b[39m.\u001b[39madd_edges(G, graph_element)\n\u001b[0;32m    347\u001b[0m \u001b[39mself\u001b[39m\u001b[39m.\u001b[39mxml\u001b[39m.\u001b[39mappend(graph_element)\n",
      "File \u001b[1;32m~\\AppData\\Local\\Packages\\PythonSoftwareFoundation.Python.3.10_qbz5n2kfra8p0\\LocalCache\\local-packages\\Python310\\site-packages\\networkx\\readwrite\\gexf.py:384\u001b[0m, in \u001b[0;36mGEXFWriter.add_nodes\u001b[1;34m(self, G, graph_element)\u001b[0m\n\u001b[0;32m    382\u001b[0m         node_data \u001b[39m=\u001b[39m \u001b[39mself\u001b[39m\u001b[39m.\u001b[39madd_spells(node_element, node_data)\n\u001b[0;32m    383\u001b[0m     node_data \u001b[39m=\u001b[39m \u001b[39mself\u001b[39m\u001b[39m.\u001b[39madd_viz(node_element, node_data)\n\u001b[1;32m--> 384\u001b[0m     node_data \u001b[39m=\u001b[39m \u001b[39mself\u001b[39;49m\u001b[39m.\u001b[39;49madd_attributes(\u001b[39m\"\u001b[39;49m\u001b[39mnode\u001b[39;49m\u001b[39m\"\u001b[39;49m, node_element, node_data, default)\n\u001b[0;32m    385\u001b[0m     nodes_element\u001b[39m.\u001b[39mappend(node_element)\n\u001b[0;32m    386\u001b[0m graph_element\u001b[39m.\u001b[39mappend(nodes_element)\n",
      "File \u001b[1;32m~\\AppData\\Local\\Packages\\PythonSoftwareFoundation.Python.3.10_qbz5n2kfra8p0\\LocalCache\\local-packages\\Python310\\site-packages\\networkx\\readwrite\\gexf.py:471\u001b[0m, in \u001b[0;36mGEXFWriter.add_attributes\u001b[1;34m(self, node_or_edge, xml_obj, data, default)\u001b[0m\n\u001b[0;32m    468\u001b[0m     \u001b[39mraise\u001b[39;00m \u001b[39mTypeError\u001b[39;00m(\u001b[39mf\u001b[39m\u001b[39m\"\u001b[39m\u001b[39mattribute value type is not allowed: \u001b[39m\u001b[39m{\u001b[39;00mval_type\u001b[39m}\u001b[39;00m\u001b[39m\"\u001b[39m)\n\u001b[0;32m    469\u001b[0m \u001b[39mif\u001b[39;00m \u001b[39misinstance\u001b[39m(v, \u001b[39mlist\u001b[39m):\n\u001b[0;32m    470\u001b[0m     \u001b[39m# dynamic data\u001b[39;00m\n\u001b[1;32m--> 471\u001b[0m     \u001b[39mfor\u001b[39;00m val, start, end \u001b[39min\u001b[39;00m v:\n\u001b[0;32m    472\u001b[0m         val_type \u001b[39m=\u001b[39m \u001b[39mtype\u001b[39m(val)\n\u001b[0;32m    473\u001b[0m         \u001b[39mif\u001b[39;00m start \u001b[39mis\u001b[39;00m \u001b[39mnot\u001b[39;00m \u001b[39mNone\u001b[39;00m \u001b[39mor\u001b[39;00m end \u001b[39mis\u001b[39;00m \u001b[39mnot\u001b[39;00m \u001b[39mNone\u001b[39;00m:\n",
      "\u001b[1;31mValueError\u001b[0m: not enough values to unpack (expected 3, got 2)"
     ]
    }
   ],
   "source": [
    "nx.write_gexf(G, 'graph.gexf')"
   ]
  }
 ],
 "metadata": {
  "kernelspec": {
   "display_name": "Python 3",
   "language": "python",
   "name": "python3"
  },
  "language_info": {
   "codemirror_mode": {
    "name": "ipython",
    "version": 3
   },
   "file_extension": ".py",
   "mimetype": "text/x-python",
   "name": "python",
   "nbconvert_exporter": "python",
   "pygments_lexer": "ipython3",
   "version": "3.11.7"
  }
 },
 "nbformat": 4,
 "nbformat_minor": 2
}
